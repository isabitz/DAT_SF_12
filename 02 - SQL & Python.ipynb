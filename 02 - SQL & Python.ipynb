{
 "metadata": {
  "name": "",
<<<<<<< HEAD
<<<<<<< HEAD
  "signature": "sha256:45057a064e37659897f192d5262da84827e34f53705c0cdc675adc29d6b6a840"
=======
  "signature": "sha256:f98f6885aa60422636778868c4a5e67d8621cd08808f885088d405576d04581c"
>>>>>>> c12189d13aa0bd83125b744a8ab1fa88ba0ee317
=======
  "signature": "sha256:72729ff11b1b5cc20de7d22f77230f80112f13b7ffa77acb5c6fd81b19557f0c"
>>>>>>> 2dcb583f4a2e2671df222b62e834a35798a83b0d
 },
 "nbformat": 3,
 "nbformat_minor": 0,
 "worksheets": [
  {
   "cells": [
    {
     "cell_type": "markdown",
     "metadata": {},
     "source": [
      "Data Science\n",
      "=========================\n",
      "2. SQL & Python\n",
      "-------------------------\n",
      "20 January 2015"
     ]
    },
    {
     "cell_type": "markdown",
     "metadata": {},
     "source": [
      "### Last Time:\n",
      "\n",
      "1. Intro to Data Science:\n",
      "    1. What is Data Science?  \n",
      "    2. Origins of Data Science  \n",
      "    3. Goals of the Course \n",
      "2. Relational Databases\n",
      "    1. Database Evolution\n",
      "    2. Normalization\n",
      "    3. Natural and Artificial Keys\n",
      "    4. Star Schema\n",
      "    \n",
      "#### Questions?"
     ]
    },
    {
     "cell_type": "markdown",
     "metadata": {},
     "source": [
      "### Agenda\n",
      "\n",
      "1. Readiness Assessment\n",
      "2. SQL Walk Through\n",
      "3. Lab 1\n",
      "4. Pandas Walk Through\n",
      "5. Lab 2"
     ]
    },
    {
     "cell_type": "markdown",
     "metadata": {},
     "source": [
      "---"
     ]
    },
    {
     "cell_type": "markdown",
     "metadata": {},
     "source": [
      "Readiness Assessment\n",
      "====================\n",
      "\n",
      "Given a table like the following:\n",
      "\n",
      "|Page_Name \t|User_ID \t|Date_of_Birth \t|Access_Time\n",
      "| --- | --- | --- | ---\n",
      "|landing \t|1 \t|1979-01-20 \t|2015-01-19 15:52:24\n",
      "|search \t|1 \t|1979-01-20 \t|2015-01-19 15:52:51\n",
      "|landing \t|2 \t|1986-05-03 \t|2015-01-19 15:53:17\n",
      "|product \t|1 \t|1979-01-20 \t|2015-01-19 15:53:42\n",
      "|landing \t|3 \t|1990-04-01 \t|2015-01-19 15:53:42\n",
      "|search \t|1 \t|1979-01-20 \t|2015-01-19 15:54:02\n",
      "|search \t|2 \t|1986-05-03 \t|2015-01-19 15:54:18\n",
      "| ... | ... | ... | ...\n",
      "\n",
      "1. What is the most likely primary key?\n",
      "2. Is this this table properly normalized? If not, which form(s) does it violate?\n",
      "3. How would you normalize this table?"
     ]
    },
    {
     "cell_type": "markdown",
     "metadata": {},
     "source": [
      "---"
     ]
    },
    {
     "cell_type": "markdown",
     "metadata": {},
     "source": [
      "Enron\n",
      "=====\n",
      "\n",
      "<img src=\"http://upload.wikimedia.org/wikipedia/en/thumb/9/9a/Enron_Logo.svg/150px-Enron_Logo.svg.png\" />\n",
      "\n",
      "### Download the sample database at: [tinyurl.com/enron-db](https://github.com/eklypse/GA_DS_SF_2014_01/raw/master/enron.db)"
     ]
    },
    {
     "cell_type": "markdown",
     "metadata": {},
     "source": [
      "`conda install pip`  \n",
      "\n",
      "`pip install ipython-sql`  \n",
      "**for sql magic**"
     ]
    },
    {
     "cell_type": "code",
     "collapsed": false,
     "input": [
      "%load_ext sql"
     ],
     "language": "python",
     "metadata": {},
     "outputs": [],
     "prompt_number": 1
    },
    {
     "cell_type": "code",
     "collapsed": false,
     "input": [
      "%%bash\n",
      "sqlite3 enron.db .tables"
     ],
     "language": "python",
     "metadata": {},
     "outputs": [
      {
       "output_type": "stream",
       "stream": "stdout",
       "text": [
        "Employee          EmployeeWithVars  MessageBase       RecipientBase   \n",
        "EmployeeBase      Message           Recipient       \n"
       ]
      }
     ],
<<<<<<< HEAD
     "prompt_number": 2
=======
     "prompt_number": 6
>>>>>>> c12189d13aa0bd83125b744a8ab1fa88ba0ee317
    },
    {
     "cell_type": "markdown",
     "metadata": {},
     "source": [
      "We only care about the `*Base` tables:\n",
      "\n",
      "- EmployeeBase\n",
      "- MessageBase\n",
      "- RecipientBase\n",
      "\n",
      "(The other tables are derived from those. We don't need them for this exercise.)"
     ]
    },
    {
     "cell_type": "code",
     "collapsed": false,
     "input": [
      "%%sql sqlite:///enron.db\n",
      "SELECT * FROM EmployeeBase LIMIT 5;"
     ],
     "language": "python",
     "metadata": {},
     "outputs": [
      {
       "output_type": "stream",
       "stream": "stdout",
       "text": [
        "Done.\n"
       ]
      },
      {
       "html": [
        "<table>\n",
        "    <tr>\n",
        "        <th>eid</th>\n",
        "        <th>name</th>\n",
        "        <th>department</th>\n",
        "        <th>longdepartment</th>\n",
        "        <th>title</th>\n",
        "        <th>gender</th>\n",
        "        <th>seniority</th>\n",
        "    </tr>\n",
        "    <tr>\n",
        "        <td>1</td>\n",
        "        <td>John Arnold</td>\n",
        "        <td>Trading</td>\n",
        "        <td>ENA Gas Financial</td>\n",
        "        <td>VP Trading</td>\n",
        "        <td>Male</td>\n",
        "        <td>Senior</td>\n",
        "    </tr>\n",
        "    <tr>\n",
        "        <td>2</td>\n",
        "        <td>Harry Arora</td>\n",
        "        <td>Trading</td>\n",
        "        <td>ENA East Power</td>\n",
        "        <td>VP Trading</td>\n",
        "        <td>Male</td>\n",
        "        <td>Senior</td>\n",
        "    </tr>\n",
        "    <tr>\n",
        "        <td>3</td>\n",
        "        <td>Robert Badeer</td>\n",
        "        <td>Trading</td>\n",
        "        <td>ENA West Power</td>\n",
        "        <td>Mgr Trading</td>\n",
        "        <td>Male</td>\n",
        "        <td>Junior</td>\n",
        "    </tr>\n",
        "    <tr>\n",
        "        <td>4</td>\n",
        "        <td>Susan Bailey</td>\n",
        "        <td>Legal</td>\n",
        "        <td>ENA Legal</td>\n",
        "        <td>Specialist Legal</td>\n",
        "        <td>Female</td>\n",
        "        <td>Junior</td>\n",
        "    </tr>\n",
        "    <tr>\n",
        "        <td>5</td>\n",
        "        <td>Eric Bass</td>\n",
        "        <td>Trading</td>\n",
        "        <td>ENA Gas Texas</td>\n",
        "        <td>Trader</td>\n",
        "        <td>Male</td>\n",
        "        <td>Junior</td>\n",
        "    </tr>\n",
        "</table>"
       ],
       "metadata": {},
       "output_type": "pyout",
<<<<<<< HEAD
       "prompt_number": 3,
=======
       "prompt_number": 8,
>>>>>>> c12189d13aa0bd83125b744a8ab1fa88ba0ee317
       "text": [
        "[(1, u'John Arnold', u'Trading', u'ENA Gas Financial', u'VP Trading', u'Male', u'Senior'),\n",
        " (2, u'Harry Arora', u'Trading', u'ENA East Power', u'VP Trading', u'Male', u'Senior'),\n",
        " (3, u'Robert Badeer', u'Trading', u'ENA West Power', u'Mgr Trading', u'Male', u'Junior'),\n",
        " (4, u'Susan Bailey', u'Legal', u'ENA Legal', u'Specialist Legal', u'Female', u'Junior'),\n",
        " (5, u'Eric Bass', u'Trading', u'ENA Gas Texas', u'Trader', u'Male', u'Junior')]"
       ]
      }
     ],
<<<<<<< HEAD
     "prompt_number": 3
=======
     "prompt_number": 8
>>>>>>> c12189d13aa0bd83125b744a8ab1fa88ba0ee317
    },
    {
     "cell_type": "code",
     "collapsed": false,
     "input": [
      "%%sql sqlite:///enron.db\n",
      "SELECT * FROM MessageBase LIMIT 5;"
     ],
     "language": "python",
     "metadata": {},
     "outputs": [
      {
       "output_type": "stream",
       "stream": "stdout",
       "text": [
        "Done.\n"
       ]
      },
      {
       "html": [
        "<table>\n",
        "    <tr>\n",
        "        <th>mid</th>\n",
        "        <th>filename</th>\n",
        "        <th>unix_time</th>\n",
        "        <th>subject</th>\n",
        "        <th>from_eid</th>\n",
        "    </tr>\n",
        "    <tr>\n",
        "        <td>1</td>\n",
        "        <td>taylor-m/sent/11</td>\n",
        "        <td>910930020</td>\n",
        "        <td>Cd$ CME letter</td>\n",
        "        <td>138</td>\n",
        "    </tr>\n",
        "    <tr>\n",
        "        <td>2</td>\n",
        "        <td>taylor-m/sent/17</td>\n",
        "        <td>911459940</td>\n",
        "        <td>Indemnification</td>\n",
        "        <td>138</td>\n",
        "    </tr>\n",
        "    <tr>\n",
        "        <td>3</td>\n",
        "        <td>taylor-m/sent/18</td>\n",
        "        <td>911463840</td>\n",
        "        <td>Re: Indemnification</td>\n",
        "        <td>138</td>\n",
        "    </tr>\n",
        "    <tr>\n",
        "        <td>4</td>\n",
        "        <td>taylor-m/sent/23</td>\n",
        "        <td>911874180</td>\n",
        "        <td>Re: Coral Energy, L.P.</td>\n",
        "        <td>138</td>\n",
        "    </tr>\n",
        "    <tr>\n",
        "        <td>5</td>\n",
        "        <td>taylor-m/sent/27</td>\n",
        "        <td>912396120</td>\n",
        "        <td>Bankruptcy Code revisions</td>\n",
        "        <td>138</td>\n",
        "    </tr>\n",
        "</table>"
       ],
       "metadata": {},
       "output_type": "pyout",
<<<<<<< HEAD
       "prompt_number": 4,
=======
       "prompt_number": 9,
>>>>>>> c12189d13aa0bd83125b744a8ab1fa88ba0ee317
       "text": [
        "[(1, u'taylor-m/sent/11', 910930020, u'Cd$ CME letter', 138),\n",
        " (2, u'taylor-m/sent/17', 911459940, u'Indemnification', 138),\n",
        " (3, u'taylor-m/sent/18', 911463840, u'Re: Indemnification', 138),\n",
        " (4, u'taylor-m/sent/23', 911874180, u'Re: Coral Energy, L.P.', 138),\n",
        " (5, u'taylor-m/sent/27', 912396120, u'Bankruptcy Code revisions', 138)]"
       ]
      }
     ],
<<<<<<< HEAD
     "prompt_number": 4
=======
     "prompt_number": 9
>>>>>>> c12189d13aa0bd83125b744a8ab1fa88ba0ee317
    },
    {
     "cell_type": "markdown",
     "metadata": {},
     "source": [
      "What about the last 5 messages?"
     ]
    },
    {
     "cell_type": "code",
     "collapsed": false,
     "input": [
      "%%sql sqlite:///enron.db\n",
      "SELECT * FROM MessageBase ORDER BY unix_time DESC LIMIT 5"
     ],
     "language": "python",
     "metadata": {},
     "outputs": [
      {
       "output_type": "stream",
       "stream": "stdout",
       "text": [
        "Done.\n"
       ]
      },
      {
       "html": [
        "<table>\n",
        "    <tr>\n",
        "        <th>mid</th>\n",
        "        <th>filename</th>\n",
        "        <th>unix_time</th>\n",
        "        <th>subject</th>\n",
        "        <th>from_eid</th>\n",
        "    </tr>\n",
        "    <tr>\n",
        "        <td>21635</td>\n",
        "        <td>germany-c/inbox/23</td>\n",
        "        <td>1024666654</td>\n",
        "        <td>Master Termination Log</td>\n",
        "        <td>92</td>\n",
        "    </tr>\n",
        "    <tr>\n",
        "        <td>21634</td>\n",
        "        <td>germany-c/inbox/42</td>\n",
        "        <td>1023970571</td>\n",
        "        <td>Netting Agreement Materials</td>\n",
        "        <td>4</td>\n",
        "    </tr>\n",
        "    <tr>\n",
        "        <td>21633</td>\n",
        "        <td>germany-c/personal/1</td>\n",
        "        <td>1023873696</td>\n",
        "        <td>RE: Job Ops</td>\n",
        "        <td>57</td>\n",
        "    </tr>\n",
        "    <tr>\n",
        "        <td>21632</td>\n",
        "        <td>germany-c/sent_items/74</td>\n",
        "        <td>1023873633</td>\n",
        "        <td>Job Ops</td>\n",
        "        <td>39</td>\n",
        "    </tr>\n",
        "    <tr>\n",
        "        <td>21631</td>\n",
        "        <td>germany-c/inbox/49</td>\n",
        "        <td>1023708531</td>\n",
        "        <td>NNG Deals</td>\n",
        "        <td>39</td>\n",
        "    </tr>\n",
        "</table>"
       ],
       "metadata": {},
       "output_type": "pyout",
<<<<<<< HEAD
       "prompt_number": 5,
=======
       "prompt_number": 10,
>>>>>>> c12189d13aa0bd83125b744a8ab1fa88ba0ee317
       "text": [
        "[(21635, u'germany-c/inbox/23', 1024666654, u'Master Termination Log', 92),\n",
        " (21634, u'germany-c/inbox/42', 1023970571, u'Netting Agreement Materials', 4),\n",
        " (21633, u'germany-c/personal/1', 1023873696, u'RE: Job Ops', 57),\n",
        " (21632, u'germany-c/sent_items/74', 1023873633, u'Job Ops', 39),\n",
        " (21631, u'germany-c/inbox/49', 1023708531, u'NNG Deals', 39)]"
       ]
      }
     ],
<<<<<<< HEAD
     "prompt_number": 5
=======
     "prompt_number": 10
>>>>>>> c12189d13aa0bd83125b744a8ab1fa88ba0ee317
    },
    {
     "cell_type": "markdown",
     "metadata": {},
     "source": [
      "`from_eid` looks like a foreign key"
     ]
    },
    {
     "cell_type": "code",
     "collapsed": false,
     "input": [
      "%%sql sqlite:///enron.db\n",
      "SELECT unix_time, name, department, title, gender, seniority, subject, filename \n",
      "FROM EmployeeBase JOIN MessageBase ON eid = from_eid LIMIT 5;"
     ],
     "language": "python",
     "metadata": {},
     "outputs": [
      {
       "output_type": "stream",
       "stream": "stdout",
       "text": [
        "Done.\n"
       ]
      },
      {
       "html": [
        "<table>\n",
        "    <tr>\n",
        "        <th>unix_time</th>\n",
        "        <th>name</th>\n",
        "        <th>department</th>\n",
        "        <th>title</th>\n",
        "        <th>gender</th>\n",
        "        <th>seniority</th>\n",
        "        <th>subject</th>\n",
        "        <th>filename</th>\n",
        "    </tr>\n",
        "    <tr>\n",
        "        <td>910930020</td>\n",
        "        <td>Mark E. Taylor</td>\n",
        "        <td>Legal</td>\n",
        "        <td>VP &amp; Gen Cnsl</td>\n",
        "        <td>Male</td>\n",
        "        <td>Senior</td>\n",
        "        <td>Cd$ CME letter</td>\n",
        "        <td>taylor-m/sent/11</td>\n",
        "    </tr>\n",
        "    <tr>\n",
        "        <td>911459940</td>\n",
        "        <td>Mark E. Taylor</td>\n",
        "        <td>Legal</td>\n",
        "        <td>VP &amp; Gen Cnsl</td>\n",
        "        <td>Male</td>\n",
        "        <td>Senior</td>\n",
        "        <td>Indemnification</td>\n",
        "        <td>taylor-m/sent/17</td>\n",
        "    </tr>\n",
        "    <tr>\n",
        "        <td>911463840</td>\n",
        "        <td>Mark E. Taylor</td>\n",
        "        <td>Legal</td>\n",
        "        <td>VP &amp; Gen Cnsl</td>\n",
        "        <td>Male</td>\n",
        "        <td>Senior</td>\n",
        "        <td>Re: Indemnification</td>\n",
        "        <td>taylor-m/sent/18</td>\n",
        "    </tr>\n",
        "    <tr>\n",
        "        <td>911874180</td>\n",
        "        <td>Mark E. Taylor</td>\n",
        "        <td>Legal</td>\n",
        "        <td>VP &amp; Gen Cnsl</td>\n",
        "        <td>Male</td>\n",
        "        <td>Senior</td>\n",
        "        <td>Re: Coral Energy, L.P.</td>\n",
        "        <td>taylor-m/sent/23</td>\n",
        "    </tr>\n",
        "    <tr>\n",
        "        <td>912396120</td>\n",
        "        <td>Mark E. Taylor</td>\n",
        "        <td>Legal</td>\n",
        "        <td>VP &amp; Gen Cnsl</td>\n",
        "        <td>Male</td>\n",
        "        <td>Senior</td>\n",
        "        <td>Bankruptcy Code revisions</td>\n",
        "        <td>taylor-m/sent/27</td>\n",
        "    </tr>\n",
        "</table>"
       ],
       "metadata": {},
       "output_type": "pyout",
<<<<<<< HEAD
       "prompt_number": 6,
=======
       "prompt_number": 11,
>>>>>>> c12189d13aa0bd83125b744a8ab1fa88ba0ee317
       "text": [
        "[(910930020, u'Mark E. Taylor', u'Legal', u'VP & Gen Cnsl', u'Male', u'Senior', u'Cd$ CME letter', u'taylor-m/sent/11'),\n",
        " (911459940, u'Mark E. Taylor', u'Legal', u'VP & Gen Cnsl', u'Male', u'Senior', u'Indemnification', u'taylor-m/sent/17'),\n",
        " (911463840, u'Mark E. Taylor', u'Legal', u'VP & Gen Cnsl', u'Male', u'Senior', u'Re: Indemnification', u'taylor-m/sent/18'),\n",
        " (911874180, u'Mark E. Taylor', u'Legal', u'VP & Gen Cnsl', u'Male', u'Senior', u'Re: Coral Energy, L.P.', u'taylor-m/sent/23'),\n",
        " (912396120, u'Mark E. Taylor', u'Legal', u'VP & Gen Cnsl', u'Male', u'Senior', u'Bankruptcy Code revisions', u'taylor-m/sent/27')]"
       ]
      }
     ],
<<<<<<< HEAD
     "prompt_number": 6
=======
     "prompt_number": 11
>>>>>>> c12189d13aa0bd83125b744a8ab1fa88ba0ee317
    },
    {
     "cell_type": "markdown",
     "metadata": {},
     "source": [
      "Finally, `RecipientBase`:"
     ]
    },
    {
     "cell_type": "code",
     "collapsed": false,
     "input": [
      "%%sql sqlite:///enron.db\n",
      "SELECT * FROM RecipientBase LIMIT 9"
     ],
     "language": "python",
     "metadata": {},
     "outputs": [
      {
       "output_type": "stream",
       "stream": "stdout",
       "text": [
        "Done.\n"
       ]
      },
      {
       "html": [
        "<table>\n",
        "    <tr>\n",
        "        <th>mid</th>\n",
        "        <th>rno</th>\n",
        "        <th>to_eid</th>\n",
        "    </tr>\n",
        "    <tr>\n",
        "        <td>1</td>\n",
        "        <td>1</td>\n",
        "        <td>59</td>\n",
        "    </tr>\n",
        "    <tr>\n",
        "        <td>2</td>\n",
        "        <td>1</td>\n",
        "        <td>15</td>\n",
        "    </tr>\n",
        "    <tr>\n",
        "        <td>3</td>\n",
        "        <td>1</td>\n",
        "        <td>15</td>\n",
        "    </tr>\n",
        "    <tr>\n",
        "        <td>4</td>\n",
        "        <td>1</td>\n",
        "        <td>109</td>\n",
        "    </tr>\n",
        "    <tr>\n",
        "        <td>4</td>\n",
        "        <td>2</td>\n",
        "        <td>49</td>\n",
        "    </tr>\n",
        "    <tr>\n",
        "        <td>4</td>\n",
        "        <td>3</td>\n",
        "        <td>120</td>\n",
        "    </tr>\n",
        "    <tr>\n",
        "        <td>4</td>\n",
        "        <td>4</td>\n",
        "        <td>59</td>\n",
        "    </tr>\n",
        "    <tr>\n",
        "        <td>5</td>\n",
        "        <td>1</td>\n",
        "        <td>45</td>\n",
        "    </tr>\n",
        "    <tr>\n",
        "        <td>5</td>\n",
        "        <td>2</td>\n",
        "        <td>53</td>\n",
        "    </tr>\n",
        "</table>"
       ],
       "metadata": {},
       "output_type": "pyout",
<<<<<<< HEAD
       "prompt_number": 8,
=======
       "prompt_number": 12,
>>>>>>> c12189d13aa0bd83125b744a8ab1fa88ba0ee317
       "text": [
        "[(1, 1, 59),\n",
        " (2, 1, 15),\n",
        " (3, 1, 15),\n",
        " (4, 1, 109),\n",
        " (4, 2, 49),\n",
        " (4, 3, 120),\n",
        " (4, 4, 59),\n",
        " (5, 1, 45),\n",
        " (5, 2, 53)]"
       ]
      }
     ],
<<<<<<< HEAD
     "prompt_number": 8
=======
     "prompt_number": 12
>>>>>>> c12189d13aa0bd83125b744a8ab1fa88ba0ee317
    },
    {
     "cell_type": "markdown",
     "metadata": {},
     "source": [
      "It looks like we can use this to determine how many recipients each message received  \n",
      "i.e. `MAX(rno)`"
     ]
    },
    {
     "cell_type": "code",
     "collapsed": false,
     "input": [
      "%%sql sqlite:///enron.db\n",
      "SELECT * FROM RecipientBase WHERE rno = 57"
     ],
     "language": "python",
     "metadata": {},
     "outputs": [
      {
       "output_type": "stream",
       "stream": "stdout",
       "text": [
        "Done.\n"
       ]
      },
      {
       "html": [
        "<table>\n",
        "    <tr>\n",
        "        <th>mid</th>\n",
        "        <th>rno</th>\n",
        "        <th>to_eid</th>\n",
        "    </tr>\n",
        "    <tr>\n",
        "        <td>12116</td>\n",
        "        <td>57</td>\n",
        "        <td>51</td>\n",
        "    </tr>\n",
        "    <tr>\n",
        "        <td>12151</td>\n",
        "        <td>57</td>\n",
        "        <td>51</td>\n",
        "    </tr>\n",
        "</table>"
       ],
       "metadata": {},
       "output_type": "pyout",
<<<<<<< HEAD
       "prompt_number": 9,
=======
       "prompt_number": 13,
>>>>>>> c12189d13aa0bd83125b744a8ab1fa88ba0ee317
       "text": [
        "[(12116, 57, 51), (12151, 57, 51)]"
       ]
      }
     ],
<<<<<<< HEAD
     "prompt_number": 9
=======
     "prompt_number": 13
>>>>>>> c12189d13aa0bd83125b744a8ab1fa88ba0ee317
    },
    {
     "cell_type": "code",
     "collapsed": false,
     "input": [
      "%%sql sqlite:///enron.db\n",
      "SELECT * FROM MessageBase WHERE mid IN (12116, 12151)"
     ],
     "language": "python",
     "metadata": {},
     "outputs": [
      {
       "output_type": "stream",
       "stream": "stdout",
       "text": [
        "Done.\n"
       ]
      },
      {
       "html": [
        "<table>\n",
        "    <tr>\n",
        "        <th>mid</th>\n",
        "        <th>filename</th>\n",
        "        <th>unix_time</th>\n",
        "        <th>subject</th>\n",
        "        <th>from_eid</th>\n",
        "    </tr>\n",
        "    <tr>\n",
        "        <td>12116</td>\n",
        "        <td>baughman-d/all_documents/398</td>\n",
        "        <td>990510780</td>\n",
        "        <td></td>\n",
        "        <td>67</td>\n",
        "    </tr>\n",
        "    <tr>\n",
        "        <td>12151</td>\n",
        "        <td>baughman-d/ect_admin/22</td>\n",
        "        <td>990546780</td>\n",
        "        <td></td>\n",
        "        <td>67</td>\n",
        "    </tr>\n",
        "</table>"
       ],
       "metadata": {},
       "output_type": "pyout",
<<<<<<< HEAD
       "prompt_number": 10,
=======
       "prompt_number": 14,
>>>>>>> c12189d13aa0bd83125b744a8ab1fa88ba0ee317
       "text": [
        "[(12116, u'baughman-d/all_documents/398', 990510780, u'', 67),\n",
        " (12151, u'baughman-d/ect_admin/22', 990546780, u'', 67)]"
       ]
      }
     ],
<<<<<<< HEAD
     "prompt_number": 10
=======
     "prompt_number": 14
>>>>>>> c12189d13aa0bd83125b744a8ab1fa88ba0ee317
    },
    {
     "cell_type": "code",
     "collapsed": false,
     "input": [
      "%%sql sqlite:///enron.db\n",
      "SELECT * FROM EmployeeBase WHERE eid=67"
     ],
     "language": "python",
     "metadata": {},
     "outputs": [
      {
       "output_type": "stream",
       "stream": "stdout",
       "text": [
        "Done.\n"
       ]
      },
      {
       "html": [
        "<table>\n",
        "    <tr>\n",
        "        <th>eid</th>\n",
        "        <th>name</th>\n",
        "        <th>department</th>\n",
        "        <th>longdepartment</th>\n",
        "        <th>title</th>\n",
        "        <th>gender</th>\n",
        "        <th>seniority</th>\n",
        "    </tr>\n",
        "    <tr>\n",
        "        <td>67</td>\n",
        "        <td>John J. Lavorato</td>\n",
        "        <td>Other</td>\n",
        "        <td>EWS</td>\n",
        "        <td>ENA President &amp; CEO</td>\n",
        "        <td>Male</td>\n",
        "        <td>Senior</td>\n",
        "    </tr>\n",
        "</table>"
       ],
       "metadata": {},
       "output_type": "pyout",
<<<<<<< HEAD
       "prompt_number": 11,
=======
       "prompt_number": 15,
>>>>>>> c12189d13aa0bd83125b744a8ab1fa88ba0ee317
       "text": [
        "[(67, u'John J. Lavorato', u'Other', u'EWS', u'ENA President & CEO', u'Male', u'Senior')]"
       ]
      }
     ],
<<<<<<< HEAD
     "prompt_number": 11
=======
     "prompt_number": 15
>>>>>>> c12189d13aa0bd83125b744a8ab1fa88ba0ee317
    },
    {
     "cell_type": "markdown",
     "metadata": {},
     "source": [
      "Who sent the email to the most recipients?"
     ]
    },
    {
     "cell_type": "code",
     "collapsed": false,
     "input": [
      "%%sql sqlite:///enron.db\n",
      "SELECT name, title, MAX(rno)\n",
      "FROM EmployeeBase \n",
      "JOIN MessageBase ON eid = from_eid \n",
      "JOIN RecipientBase USING(mid)"
     ],
     "language": "python",
     "metadata": {},
     "outputs": [
      {
       "output_type": "stream",
       "stream": "stdout",
       "text": [
        "Done.\n"
       ]
      },
      {
       "html": [
        "<table>\n",
        "    <tr>\n",
        "        <th>name</th>\n",
        "        <th>title</th>\n",
        "        <th>MAX(rno)</th>\n",
        "    </tr>\n",
        "    <tr>\n",
        "        <td>John J. Lavorato</td>\n",
        "        <td>ENA President &amp; CEO</td>\n",
        "        <td>57</td>\n",
        "    </tr>\n",
        "</table>"
       ],
       "metadata": {},
       "output_type": "pyout",
<<<<<<< HEAD
       "prompt_number": 12,
=======
       "prompt_number": 16,
>>>>>>> c12189d13aa0bd83125b744a8ab1fa88ba0ee317
       "text": [
        "[(u'John J. Lavorato', u'ENA President & CEO', 57)]"
       ]
      }
     ],
<<<<<<< HEAD
     "prompt_number": 12
=======
     "prompt_number": 16
>>>>>>> c12189d13aa0bd83125b744a8ab1fa88ba0ee317
    },
    {
     "cell_type": "markdown",
     "metadata": {},
     "source": [
      "In Pairs:\n",
      "---------\n",
      "1. Who are the top five senders of mass email?\n",
      "2. Who sent the last email?\n",
      "3. Who received the last email?\n",
      "4. Who didn't send any email?\n",
      "5. Who didn't receive any email?"
     ]
    },
    {
     "cell_type": "markdown",
     "metadata": {},
     "source": [
      "# TAKE A BREAK. \n",
      "## Class will resume at 8:10 with a brief intro to Python, IPython, and IPython Notebook"
     ]
    },
    {
     "cell_type": "code",
     "collapsed": false,
     "input": [
      "%%sql sqlite:///enron.db\n",
      "SELECT eid, name, count(distinct filename) as message_count\n",
      "FROM MessageBase \n",
      "JOIN EmployeeBase \n",
      "on eid = from_eid \n",
      "GROUP BY eid\n",
      "ORDER BY message_count\n",
      "DESC LIMIT 5"
     ],
     "language": "python",
     "metadata": {},
     "outputs": [
      {
       "output_type": "stream",
       "stream": "stdout",
       "text": [
        "Done.\n"
       ]
      },
      {
       "html": [
        "<table>\n",
        "    <tr>\n",
        "        <th>eid</th>\n",
        "        <th>name</th>\n",
        "        <th>message_count</th>\n",
        "    </tr>\n",
        "    <tr>\n",
        "        <td>20</td>\n",
        "        <td>Jeff Dasovich</td>\n",
        "        <td>1597</td>\n",
        "    </tr>\n",
        "    <tr>\n",
        "        <td>59</td>\n",
        "        <td>Tana Jones</td>\n",
        "        <td>1379</td>\n",
        "    </tr>\n",
        "    <tr>\n",
        "        <td>120</td>\n",
        "        <td>Sara Shackleton</td>\n",
        "        <td>1142</td>\n",
        "    </tr>\n",
        "    <tr>\n",
        "        <td>131</td>\n",
        "        <td>James D. Steffes</td>\n",
        "        <td>859</td>\n",
        "    </tr>\n",
        "    <tr>\n",
        "        <td>138</td>\n",
        "        <td>Mark E. Taylor</td>\n",
        "        <td>658</td>\n",
        "    </tr>\n",
        "</table>"
       ],
       "metadata": {},
       "output_type": "pyout",
       "prompt_number": 5,
       "text": [
        "[(20, u'Jeff Dasovich', 1597),\n",
        " (59, u'Tana Jones', 1379),\n",
        " (120, u'Sara Shackleton', 1142),\n",
        " (131, u'James D. Steffes', 859),\n",
        " (138, u'Mark E. Taylor', 658)]"
       ]
      }
     ],
     "prompt_number": 5
    },
    {
     "cell_type": "code",
     "collapsed": false,
     "input": [
      "%%sql sqlite:///enron.db\n",
      "    SELECT name, unix_time\n",
      "    FROM MessageBase\n",
      "    JOIN EmployeeBase\n",
      "    on eid = from_eid\n",
      "    ORDER BY unix_time\n",
      "ASC LIMIT 5"
     ],
     "language": "python",
     "metadata": {},
     "outputs": [
      {
       "output_type": "stream",
       "stream": "stdout",
       "text": [
        "Done.\n"
       ]
      },
      {
       "html": [
        "<table>\n",
        "    <tr>\n",
        "        <th>name</th>\n",
        "        <th>unix_time</th>\n",
        "    </tr>\n",
        "    <tr>\n",
        "        <td>Mark E. Taylor</td>\n",
        "        <td>910930020</td>\n",
        "    </tr>\n",
        "    <tr>\n",
        "        <td>Mark E. Taylor</td>\n",
        "        <td>911459940</td>\n",
        "    </tr>\n",
        "    <tr>\n",
        "        <td>Mark E. Taylor</td>\n",
        "        <td>911463840</td>\n",
        "    </tr>\n",
        "    <tr>\n",
        "        <td>Mark E. Taylor</td>\n",
        "        <td>911874180</td>\n",
        "    </tr>\n",
        "    <tr>\n",
        "        <td>Mark E. Taylor</td>\n",
        "        <td>912396120</td>\n",
        "    </tr>\n",
        "</table>"
       ],
       "metadata": {},
       "output_type": "pyout",
       "prompt_number": 6,
       "text": [
        "[(u'Mark E. Taylor', 910930020),\n",
        " (u'Mark E. Taylor', 911459940),\n",
        " (u'Mark E. Taylor', 911463840),\n",
        " (u'Mark E. Taylor', 911874180),\n",
        " (u'Mark E. Taylor', 912396120)]"
       ]
      }
     ],
     "prompt_number": 6
    },
    {
     "cell_type": "code",
     "collapsed": false,
     "input": [
      "%%sql sqlite:///enron.db\n",
      "    SELECT *\n",
      "    FROM MessageBase\n",
      "    JOIN RecipientBase USING(mid)\n",
      "    JOIN Employee\n",
      "    ORDER BY unix_time\n",
      "    ASC LIMIT 5"
     ],
     "language": "python",
     "metadata": {},
     "outputs": [
      {
       "output_type": "stream",
       "stream": "stdout",
       "text": [
        "Done.\n"
       ]
      },
      {
       "html": [
        "<table>\n",
        "    <tr>\n",
        "        <th>mid</th>\n",
        "        <th>filename</th>\n",
        "        <th>unix_time</th>\n",
        "        <th>subject</th>\n",
        "        <th>from_eid</th>\n",
        "        <th>rno</th>\n",
        "        <th>to_eid</th>\n",
        "    </tr>\n",
        "    <tr>\n",
        "        <td>1</td>\n",
        "        <td>taylor-m/sent/11</td>\n",
        "        <td>910930020</td>\n",
        "        <td>Cd$ CME letter</td>\n",
        "        <td>138</td>\n",
        "        <td>1</td>\n",
        "        <td>59</td>\n",
        "    </tr>\n",
        "    <tr>\n",
        "        <td>2</td>\n",
        "        <td>taylor-m/sent/17</td>\n",
        "        <td>911459940</td>\n",
        "        <td>Indemnification</td>\n",
        "        <td>138</td>\n",
        "        <td>1</td>\n",
        "        <td>15</td>\n",
        "    </tr>\n",
        "    <tr>\n",
        "        <td>3</td>\n",
        "        <td>taylor-m/sent/18</td>\n",
        "        <td>911463840</td>\n",
        "        <td>Re: Indemnification</td>\n",
        "        <td>138</td>\n",
        "        <td>1</td>\n",
        "        <td>15</td>\n",
        "    </tr>\n",
        "    <tr>\n",
        "        <td>4</td>\n",
        "        <td>taylor-m/sent/23</td>\n",
        "        <td>911874180</td>\n",
        "        <td>Re: Coral Energy, L.P.</td>\n",
        "        <td>138</td>\n",
        "        <td>1</td>\n",
        "        <td>109</td>\n",
        "    </tr>\n",
        "    <tr>\n",
        "        <td>4</td>\n",
        "        <td>taylor-m/sent/23</td>\n",
        "        <td>911874180</td>\n",
        "        <td>Re: Coral Energy, L.P.</td>\n",
        "        <td>138</td>\n",
        "        <td>2</td>\n",
        "        <td>49</td>\n",
        "    </tr>\n",
        "</table>"
       ],
       "metadata": {},
       "output_type": "pyout",
       "prompt_number": 9,
       "text": [
        "[(1, u'taylor-m/sent/11', 910930020, u'Cd$ CME letter', 138, 1, 59),\n",
        " (2, u'taylor-m/sent/17', 911459940, u'Indemnification', 138, 1, 15),\n",
        " (3, u'taylor-m/sent/18', 911463840, u'Re: Indemnification', 138, 1, 15),\n",
        " (4, u'taylor-m/sent/23', 911874180, u'Re: Coral Energy, L.P.', 138, 1, 109),\n",
        " (4, u'taylor-m/sent/23', 911874180, u'Re: Coral Energy, L.P.', 138, 2, 49)]"
       ]
      }
     ],
     "prompt_number": 9
    },
    {
     "cell_type": "code",
     "collapsed": false,
     "input": [
      "%%sql sqlite:///enron.db\n",
      "SELECT * \n",
      "FROM RecipientBase\n",
      "JOIN MessageBase\n",
      "USING (mid)\n",
      "ORDER BY filename\n",
      "LIMIT 5"
     ],
     "language": "python",
     "metadata": {},
     "outputs": [
      {
       "output_type": "stream",
       "stream": "stdout",
       "text": [
        "Done.\n"
       ]
      },
      {
       "html": [
        "<table>\n",
        "    <tr>\n",
        "        <th>mid</th>\n",
        "        <th>rno</th>\n",
        "        <th>to_eid</th>\n",
        "        <th>filename</th>\n",
        "        <th>unix_time</th>\n",
        "        <th>subject</th>\n",
        "        <th>from_eid</th>\n",
        "    </tr>\n",
        "    <tr>\n",
        "        <td>7025</td>\n",
        "        <td>1</td>\n",
        "        <td>156</td>\n",
        "        <td>allen-p/all_documents/35</td>\n",
        "        <td>976591500</td>\n",
        "        <td></td>\n",
        "        <td>144</td>\n",
        "    </tr>\n",
        "    <tr>\n",
        "        <td>7027</td>\n",
        "        <td>1</td>\n",
        "        <td>140</td>\n",
        "        <td>allen-p/all_documents/40</td>\n",
        "        <td>976593720</td>\n",
        "        <td>Re: Talking points about California Gas market</td>\n",
        "        <td>122</td>\n",
        "    </tr>\n",
        "    <tr>\n",
        "        <td>7027</td>\n",
        "        <td>2</td>\n",
        "        <td>156</td>\n",
        "        <td>allen-p/all_documents/40</td>\n",
        "        <td>976593720</td>\n",
        "        <td>Re: Talking points about California Gas market</td>\n",
        "        <td>122</td>\n",
        "    </tr>\n",
        "    <tr>\n",
        "        <td>9897</td>\n",
        "        <td>1</td>\n",
        "        <td>118</td>\n",
        "        <td>allen-p/all_documents/456</td>\n",
        "        <td>984965100</td>\n",
        "        <td>Re: Denver trading</td>\n",
        "        <td>149</td>\n",
        "    </tr>\n",
        "    <tr>\n",
        "        <td>9897</td>\n",
        "        <td>2</td>\n",
        "        <td>102</td>\n",
        "        <td>allen-p/all_documents/456</td>\n",
        "        <td>984965100</td>\n",
        "        <td>Re: Denver trading</td>\n",
        "        <td>149</td>\n",
        "    </tr>\n",
        "</table>"
       ],
       "metadata": {},
       "output_type": "pyout",
       "prompt_number": 12,
       "text": [
        "[(7025, 1, 156, u'allen-p/all_documents/35', 976591500, u'', 144),\n",
        " (7027, 1, 140, u'allen-p/all_documents/40', 976593720, u'Re: Talking points about California Gas market', 122),\n",
        " (7027, 2, 156, u'allen-p/all_documents/40', 976593720, u'Re: Talking points about California Gas market', 122),\n",
        " (9897, 1, 118, u'allen-p/all_documents/456', 984965100, u'Re: Denver trading', 149),\n",
        " (9897, 2, 102, u'allen-p/all_documents/456', 984965100, u'Re: Denver trading', 149)]"
       ]
      }
     ],
     "prompt_number": 12
    },
    {
     "cell_type": "code",
     "collapsed": false,
     "input": [],
     "language": "python",
     "metadata": {},
     "outputs": []
    },
    {
     "cell_type": "code",
     "collapsed": false,
     "input": [],
     "language": "python",
     "metadata": {},
     "outputs": []
    },
    {
     "cell_type": "markdown",
     "metadata": {},
     "source": [
      "---"
     ]
    },
    {
     "cell_type": "heading",
     "level": 1,
     "metadata": {},
     "source": [
      "Pandas Data Frames"
     ]
    },
    {
     "cell_type": "code",
     "collapsed": false,
     "input": [
      "%matplotlib inline"
     ],
     "language": "python",
     "metadata": {},
     "outputs": [],
<<<<<<< HEAD
     "prompt_number": 13
=======
     "prompt_number": 17
>>>>>>> c12189d13aa0bd83125b744a8ab1fa88ba0ee317
    },
    {
     "cell_type": "code",
     "collapsed": false,
     "input": [
      "import sqlite3\n",
      "import pandas as pd\n",
      "conn = sqlite3.connect('enron.db')"
     ],
     "language": "python",
     "metadata": {},
     "outputs": [],
<<<<<<< HEAD
     "prompt_number": 14
=======
     "prompt_number": 18
>>>>>>> c12189d13aa0bd83125b744a8ab1fa88ba0ee317
    },
    {
     "cell_type": "markdown",
     "metadata": {},
     "source": [
      "Optionally:  \n",
      "\n",
      "```bash\n",
      "$ conda install seaborn\n",
      "```"
     ]
    },
    {
     "cell_type": "code",
     "collapsed": false,
     "input": [
      "from seaborn import plt"
     ],
     "language": "python",
     "metadata": {},
<<<<<<< HEAD
     "outputs": [
      {
       "ename": "ImportError",
       "evalue": "No module named seaborn",
       "output_type": "pyerr",
       "traceback": [
        "\u001b[0;31m---------------------------------------------------------------------------\u001b[0m\n\u001b[0;31mImportError\u001b[0m                               Traceback (most recent call last)",
        "\u001b[0;32m<ipython-input-15-2472a5ab59ed>\u001b[0m in \u001b[0;36m<module>\u001b[0;34m()\u001b[0m\n\u001b[0;32m----> 1\u001b[0;31m \u001b[0;32mfrom\u001b[0m \u001b[0mseaborn\u001b[0m \u001b[0;32mimport\u001b[0m \u001b[0mplt\u001b[0m\u001b[0;34m\u001b[0m\u001b[0m\n\u001b[0m",
        "\u001b[0;31mImportError\u001b[0m: No module named seaborn"
       ]
      }
     ],
     "prompt_number": 15
=======
     "outputs": [],
     "prompt_number": 19
>>>>>>> c12189d13aa0bd83125b744a8ab1fa88ba0ee317
    },
    {
     "cell_type": "code",
     "collapsed": false,
     "input": [
      "pd.read_sql(\"\"\"SELECT mid, unix_time, subject, from_eid \n",
      "                FROM MessageBase ORDER BY unix_time DESC \n",
      "                LIMIT 5\"\"\", conn, \"mid\")"
     ],
     "language": "python",
     "metadata": {},
     "outputs": [
      {
       "html": [
        "<div style=\"max-height:1000px;max-width:1500px;overflow:auto;\">\n",
        "<table border=\"1\" class=\"dataframe\">\n",
        "  <thead>\n",
        "    <tr style=\"text-align: right;\">\n",
        "      <th></th>\n",
        "      <th>unix_time</th>\n",
        "      <th>subject</th>\n",
        "      <th>from_eid</th>\n",
        "    </tr>\n",
        "    <tr>\n",
        "      <th>mid</th>\n",
        "      <th></th>\n",
        "      <th></th>\n",
        "      <th></th>\n",
        "    </tr>\n",
        "  </thead>\n",
        "  <tbody>\n",
        "    <tr>\n",
        "      <th>21635</th>\n",
        "      <td> 1024666654</td>\n",
        "      <td>      Master Termination Log</td>\n",
        "      <td> 92</td>\n",
        "    </tr>\n",
        "    <tr>\n",
        "      <th>21634</th>\n",
        "      <td> 1023970571</td>\n",
        "      <td> Netting Agreement Materials</td>\n",
        "      <td>  4</td>\n",
        "    </tr>\n",
        "    <tr>\n",
        "      <th>21633</th>\n",
        "      <td> 1023873696</td>\n",
        "      <td>                 RE: Job Ops</td>\n",
        "      <td> 57</td>\n",
        "    </tr>\n",
        "    <tr>\n",
        "      <th>21632</th>\n",
        "      <td> 1023873633</td>\n",
        "      <td>                     Job Ops</td>\n",
        "      <td> 39</td>\n",
        "    </tr>\n",
        "    <tr>\n",
        "      <th>21631</th>\n",
        "      <td> 1023708531</td>\n",
        "      <td>                   NNG Deals</td>\n",
        "      <td> 39</td>\n",
        "    </tr>\n",
        "  </tbody>\n",
        "</table>\n",
        "</div>"
       ],
       "metadata": {},
       "output_type": "pyout",
<<<<<<< HEAD
       "prompt_number": 23,
=======
       "prompt_number": 20,
>>>>>>> c12189d13aa0bd83125b744a8ab1fa88ba0ee317
       "text": [
        "        unix_time                      subject  from_eid\n",
        "mid                                                     \n",
        "21635  1024666654       Master Termination Log        92\n",
        "21634  1023970571  Netting Agreement Materials         4\n",
        "21633  1023873696                  RE: Job Ops        57\n",
        "21632  1023873633                      Job Ops        39\n",
        "21631  1023708531                    NNG Deals        39"
       ]
      }
     ],
<<<<<<< HEAD
     "prompt_number": 23
=======
     "prompt_number": 20
>>>>>>> c12189d13aa0bd83125b744a8ab1fa88ba0ee317
    },
    {
     "cell_type": "code",
     "collapsed": false,
     "input": [
      "MessageBase = pd.read_sql(\"\"\"SELECT mid, unix_time, subject, from_eid \n",
      "                FROM MessageBase\"\"\", conn, \"mid\")\n",
      "MessageBase.sort(ascending=False, columns=['unix_time']).head()"
     ],
     "language": "python",
     "metadata": {},
     "outputs": [
      {
       "html": [
        "<div style=\"max-height:1000px;max-width:1500px;overflow:auto;\">\n",
        "<table border=\"1\" class=\"dataframe\">\n",
        "  <thead>\n",
        "    <tr style=\"text-align: right;\">\n",
        "      <th></th>\n",
        "      <th>unix_time</th>\n",
        "      <th>subject</th>\n",
        "      <th>from_eid</th>\n",
        "    </tr>\n",
        "    <tr>\n",
        "      <th>mid</th>\n",
        "      <th></th>\n",
        "      <th></th>\n",
        "      <th></th>\n",
        "    </tr>\n",
        "  </thead>\n",
        "  <tbody>\n",
        "    <tr>\n",
        "      <th>21635</th>\n",
        "      <td> 1024666654</td>\n",
        "      <td>      Master Termination Log</td>\n",
        "      <td> 92</td>\n",
        "    </tr>\n",
        "    <tr>\n",
        "      <th>21634</th>\n",
        "      <td> 1023970571</td>\n",
        "      <td> Netting Agreement Materials</td>\n",
        "      <td>  4</td>\n",
        "    </tr>\n",
        "    <tr>\n",
        "      <th>21633</th>\n",
        "      <td> 1023873696</td>\n",
        "      <td>                 RE: Job Ops</td>\n",
        "      <td> 57</td>\n",
        "    </tr>\n",
        "    <tr>\n",
        "      <th>21632</th>\n",
        "      <td> 1023873633</td>\n",
        "      <td>                     Job Ops</td>\n",
        "      <td> 39</td>\n",
        "    </tr>\n",
        "    <tr>\n",
        "      <th>21631</th>\n",
        "      <td> 1023708531</td>\n",
        "      <td>                   NNG Deals</td>\n",
        "      <td> 39</td>\n",
        "    </tr>\n",
        "  </tbody>\n",
        "</table>\n",
        "</div>"
       ],
       "metadata": {},
       "output_type": "pyout",
<<<<<<< HEAD
       "prompt_number": 17,
=======
       "prompt_number": 21,
>>>>>>> c12189d13aa0bd83125b744a8ab1fa88ba0ee317
       "text": [
        "        unix_time                      subject  from_eid\n",
        "mid                                                     \n",
        "21635  1024666654       Master Termination Log        92\n",
        "21634  1023970571  Netting Agreement Materials         4\n",
        "21633  1023873696                  RE: Job Ops        57\n",
        "21632  1023873633                      Job Ops        39\n",
        "21631  1023708531                    NNG Deals        39"
       ]
      }
     ],
<<<<<<< HEAD
     "prompt_number": 17
=======
     "prompt_number": 21
>>>>>>> c12189d13aa0bd83125b744a8ab1fa88ba0ee317
    },
    {
     "cell_type": "markdown",
     "metadata": {},
     "source": [
      "SQL JOIN (with USING):"
     ]
    },
    {
     "cell_type": "code",
     "collapsed": false,
     "input": [
      "pd.read_sql(\"\"\"SELECT mid, unix_time, subject, from_eid, rno, to_eid \n",
      "                FROM MessageBase JOIN RecipientBase USING (mid) LIMIT 5\"\"\", conn, \"mid\")"
     ],
     "language": "python",
     "metadata": {},
     "outputs": [
      {
       "html": [
        "<div style=\"max-height:1000px;max-width:1500px;overflow:auto;\">\n",
        "<table border=\"1\" class=\"dataframe\">\n",
        "  <thead>\n",
        "    <tr style=\"text-align: right;\">\n",
        "      <th></th>\n",
        "      <th>unix_time</th>\n",
        "      <th>subject</th>\n",
        "      <th>from_eid</th>\n",
        "      <th>rno</th>\n",
        "      <th>to_eid</th>\n",
        "    </tr>\n",
        "    <tr>\n",
        "      <th>mid</th>\n",
        "      <th></th>\n",
        "      <th></th>\n",
        "      <th></th>\n",
        "      <th></th>\n",
        "      <th></th>\n",
        "    </tr>\n",
        "  </thead>\n",
        "  <tbody>\n",
        "    <tr>\n",
        "      <th>1</th>\n",
        "      <td> 910930020</td>\n",
        "      <td>         Cd$ CME letter</td>\n",
        "      <td> 138</td>\n",
        "      <td> 1</td>\n",
        "      <td>  59</td>\n",
        "    </tr>\n",
        "    <tr>\n",
        "      <th>2</th>\n",
        "      <td> 911459940</td>\n",
        "      <td>        Indemnification</td>\n",
        "      <td> 138</td>\n",
        "      <td> 1</td>\n",
        "      <td>  15</td>\n",
        "    </tr>\n",
        "    <tr>\n",
        "      <th>3</th>\n",
        "      <td> 911463840</td>\n",
        "      <td>    Re: Indemnification</td>\n",
        "      <td> 138</td>\n",
        "      <td> 1</td>\n",
        "      <td>  15</td>\n",
        "    </tr>\n",
        "    <tr>\n",
        "      <th>4</th>\n",
        "      <td> 911874180</td>\n",
        "      <td> Re: Coral Energy, L.P.</td>\n",
        "      <td> 138</td>\n",
        "      <td> 1</td>\n",
        "      <td> 109</td>\n",
        "    </tr>\n",
        "    <tr>\n",
        "      <th>4</th>\n",
        "      <td> 911874180</td>\n",
        "      <td> Re: Coral Energy, L.P.</td>\n",
        "      <td> 138</td>\n",
        "      <td> 2</td>\n",
        "      <td>  49</td>\n",
        "    </tr>\n",
        "  </tbody>\n",
        "</table>\n",
        "</div>"
       ],
       "metadata": {},
       "output_type": "pyout",
<<<<<<< HEAD
       "prompt_number": 18,
=======
       "prompt_number": 22,
>>>>>>> c12189d13aa0bd83125b744a8ab1fa88ba0ee317
       "text": [
        "     unix_time                 subject  from_eid  rno  to_eid\n",
        "mid                                                          \n",
        "1    910930020          Cd$ CME letter       138    1      59\n",
        "2    911459940         Indemnification       138    1      15\n",
        "3    911463840     Re: Indemnification       138    1      15\n",
        "4    911874180  Re: Coral Energy, L.P.       138    1     109\n",
        "4    911874180  Re: Coral Energy, L.P.       138    2      49"
       ]
      }
     ],
<<<<<<< HEAD
     "prompt_number": 18
=======
     "prompt_number": 22
>>>>>>> c12189d13aa0bd83125b744a8ab1fa88ba0ee317
    },
    {
     "cell_type": "markdown",
     "metadata": {},
     "source": [
      "pandas.DataFrame.join"
     ]
    },
    {
     "cell_type": "code",
     "collapsed": false,
     "input": [],
     "language": "python",
     "metadata": {},
     "outputs": [
      {
       "html": [
        "<div style=\"max-height:1000px;max-width:1500px;overflow:auto;\">\n",
        "<table border=\"1\" class=\"dataframe\">\n",
        "  <thead>\n",
        "    <tr style=\"text-align: right;\">\n",
        "      <th></th>\n",
        "      <th>unix_time</th>\n",
        "      <th>subject</th>\n",
        "      <th>from_eid</th>\n",
        "      <th>rno</th>\n",
        "      <th>to_eid</th>\n",
        "    </tr>\n",
        "    <tr>\n",
        "      <th>mid</th>\n",
        "      <th></th>\n",
        "      <th></th>\n",
        "      <th></th>\n",
        "      <th></th>\n",
        "      <th></th>\n",
        "    </tr>\n",
        "  </thead>\n",
        "  <tbody>\n",
        "    <tr>\n",
        "      <th>1</th>\n",
        "      <td> 910930020</td>\n",
        "      <td>         Cd$ CME letter</td>\n",
        "      <td> 138</td>\n",
        "      <td> 1</td>\n",
        "      <td>  59</td>\n",
        "    </tr>\n",
        "    <tr>\n",
        "      <th>2</th>\n",
        "      <td> 911459940</td>\n",
        "      <td>        Indemnification</td>\n",
        "      <td> 138</td>\n",
        "      <td> 1</td>\n",
        "      <td>  15</td>\n",
        "    </tr>\n",
        "    <tr>\n",
        "      <th>3</th>\n",
        "      <td> 911463840</td>\n",
        "      <td>    Re: Indemnification</td>\n",
        "      <td> 138</td>\n",
        "      <td> 1</td>\n",
        "      <td>  15</td>\n",
        "    </tr>\n",
        "    <tr>\n",
        "      <th>4</th>\n",
        "      <td> 911874180</td>\n",
        "      <td> Re: Coral Energy, L.P.</td>\n",
        "      <td> 138</td>\n",
        "      <td> 1</td>\n",
        "      <td> 109</td>\n",
        "    </tr>\n",
        "    <tr>\n",
        "      <th>4</th>\n",
        "      <td> 911874180</td>\n",
        "      <td> Re: Coral Energy, L.P.</td>\n",
        "      <td> 138</td>\n",
        "      <td> 2</td>\n",
        "      <td>  49</td>\n",
        "    </tr>\n",
        "  </tbody>\n",
        "</table>\n",
        "</div>"
       ],
       "metadata": {},
       "output_type": "pyout",
       "prompt_number": 23,
       "text": [
        "     unix_time                 subject  from_eid  rno  to_eid\n",
        "mid                                                          \n",
        "1    910930020          Cd$ CME letter       138    1      59\n",
        "2    911459940         Indemnification       138    1      15\n",
        "3    911463840     Re: Indemnification       138    1      15\n",
        "4    911874180  Re: Coral Energy, L.P.       138    1     109\n",
        "4    911874180  Re: Coral Energy, L.P.       138    2      49"
       ]
      }
     ],
     "prompt_number": 23
    },
    {
     "cell_type": "markdown",
     "metadata": {},
     "source": [
      "SQL JOIN (with `ON`):"
     ]
    },
    {
     "cell_type": "code",
     "collapsed": false,
     "input": [
      "pd.read_sql(\"\"\"SELECT mid, unix_time, name,  \n",
      "                          title, seniority, subject \n",
      "                     FROM EmployeeBase \n",
      "                     JOIN MessageBase ON eid = from_eid \n",
      "                    LIMIT 5\"\"\", conn, \"mid\")"
     ],
     "language": "python",
     "metadata": {},
     "outputs": [
      {
       "html": [
        "<div style=\"max-height:1000px;max-width:1500px;overflow:auto;\">\n",
        "<table border=\"1\" class=\"dataframe\">\n",
        "  <thead>\n",
        "    <tr style=\"text-align: right;\">\n",
        "      <th></th>\n",
        "      <th>unix_time</th>\n",
        "      <th>name</th>\n",
        "      <th>title</th>\n",
        "      <th>seniority</th>\n",
        "      <th>subject</th>\n",
        "    </tr>\n",
        "    <tr>\n",
        "      <th>mid</th>\n",
        "      <th></th>\n",
        "      <th></th>\n",
        "      <th></th>\n",
        "      <th></th>\n",
        "      <th></th>\n",
        "    </tr>\n",
        "  </thead>\n",
        "  <tbody>\n",
        "    <tr>\n",
        "      <th>1</th>\n",
        "      <td> 910930020</td>\n",
        "      <td> Mark E. Taylor</td>\n",
        "      <td> VP &amp; Gen Cnsl</td>\n",
        "      <td> Senior</td>\n",
        "      <td>            Cd$ CME letter</td>\n",
        "    </tr>\n",
        "    <tr>\n",
        "      <th>2</th>\n",
        "      <td> 911459940</td>\n",
        "      <td> Mark E. Taylor</td>\n",
        "      <td> VP &amp; Gen Cnsl</td>\n",
        "      <td> Senior</td>\n",
        "      <td>           Indemnification</td>\n",
        "    </tr>\n",
        "    <tr>\n",
        "      <th>3</th>\n",
        "      <td> 911463840</td>\n",
        "      <td> Mark E. Taylor</td>\n",
        "      <td> VP &amp; Gen Cnsl</td>\n",
        "      <td> Senior</td>\n",
        "      <td>       Re: Indemnification</td>\n",
        "    </tr>\n",
        "    <tr>\n",
        "      <th>4</th>\n",
        "      <td> 911874180</td>\n",
        "      <td> Mark E. Taylor</td>\n",
        "      <td> VP &amp; Gen Cnsl</td>\n",
        "      <td> Senior</td>\n",
        "      <td>    Re: Coral Energy, L.P.</td>\n",
        "    </tr>\n",
        "    <tr>\n",
        "      <th>5</th>\n",
        "      <td> 912396120</td>\n",
        "      <td> Mark E. Taylor</td>\n",
        "      <td> VP &amp; Gen Cnsl</td>\n",
        "      <td> Senior</td>\n",
        "      <td> Bankruptcy Code revisions</td>\n",
        "    </tr>\n",
        "  </tbody>\n",
        "</table>\n",
        "</div>"
       ],
       "metadata": {},
       "output_type": "pyout",
       "prompt_number": 24,
       "text": [
        "     unix_time            name          title seniority  \\\n",
        "mid                                                       \n",
        "1    910930020  Mark E. Taylor  VP & Gen Cnsl    Senior   \n",
        "2    911459940  Mark E. Taylor  VP & Gen Cnsl    Senior   \n",
        "3    911463840  Mark E. Taylor  VP & Gen Cnsl    Senior   \n",
        "4    911874180  Mark E. Taylor  VP & Gen Cnsl    Senior   \n",
        "5    912396120  Mark E. Taylor  VP & Gen Cnsl    Senior   \n",
        "\n",
        "                       subject  \n",
        "mid                             \n",
        "1               Cd$ CME letter  \n",
        "2              Indemnification  \n",
        "3          Re: Indemnification  \n",
        "4       Re: Coral Energy, L.P.  \n",
        "5    Bankruptcy Code revisions  "
       ]
      }
     ],
     "prompt_number": 24
    },
    {
     "cell_type": "markdown",
     "metadata": {},
     "source": [
      "pandas.DataFrame.merge"
     ]
    },
    {
     "cell_type": "code",
     "collapsed": false,
     "input": [
      "EmployeeBase = pd.read_sql(\"\"\"SELECT eid, name, title, seniority \n",
      "                                    FROM EmployeeBase\"\"\", conn, \"eid\")\n",
      "EmployeeBase.merge(MessageBase, right_on = 'from_eid', left_index = True).head()"
     ],
     "language": "python",
     "metadata": {},
     "outputs": [
      {
       "html": [
        "<div style=\"max-height:1000px;max-width:1500px;overflow:auto;\">\n",
        "<table border=\"1\" class=\"dataframe\">\n",
        "  <thead>\n",
        "    <tr style=\"text-align: right;\">\n",
        "      <th></th>\n",
        "      <th>name</th>\n",
        "      <th>title</th>\n",
        "      <th>seniority</th>\n",
        "      <th>unix_time</th>\n",
        "      <th>subject</th>\n",
        "      <th>from_eid</th>\n",
        "    </tr>\n",
        "    <tr>\n",
        "      <th>mid</th>\n",
        "      <th></th>\n",
        "      <th></th>\n",
        "      <th></th>\n",
        "      <th></th>\n",
        "      <th></th>\n",
        "      <th></th>\n",
        "    </tr>\n",
        "  </thead>\n",
        "  <tbody>\n",
        "    <tr>\n",
        "      <th>1611</th>\n",
        "      <td> John Arnold</td>\n",
        "      <td> VP Trading</td>\n",
        "      <td> Senior</td>\n",
        "      <td> 954317280</td>\n",
        "      <td>        Re: Insurance Call Spread</td>\n",
        "      <td> 1</td>\n",
        "    </tr>\n",
        "    <tr>\n",
        "      <th>1615</th>\n",
        "      <td> John Arnold</td>\n",
        "      <td> VP Trading</td>\n",
        "      <td> Senior</td>\n",
        "      <td> 954328920</td>\n",
        "      <td> New curve generation methodology</td>\n",
        "      <td> 1</td>\n",
        "    </tr>\n",
        "    <tr>\n",
        "      <th>1722</th>\n",
        "      <td> John Arnold</td>\n",
        "      <td> VP Trading</td>\n",
        "      <td> Senior</td>\n",
        "      <td> 955447080</td>\n",
        "      <td> Option Analysis on NG Price Book</td>\n",
        "      <td> 1</td>\n",
        "    </tr>\n",
        "    <tr>\n",
        "      <th>1723</th>\n",
        "      <td> John Arnold</td>\n",
        "      <td> VP Trading</td>\n",
        "      <td> Senior</td>\n",
        "      <td> 955448160</td>\n",
        "      <td>                                 </td>\n",
        "      <td> 1</td>\n",
        "    </tr>\n",
        "    <tr>\n",
        "      <th>1763</th>\n",
        "      <td> John Arnold</td>\n",
        "      <td> VP Trading</td>\n",
        "      <td> Senior</td>\n",
        "      <td> 955701240</td>\n",
        "      <td>                      Re: options</td>\n",
        "      <td> 1</td>\n",
        "    </tr>\n",
        "  </tbody>\n",
        "</table>\n",
        "</div>"
       ],
       "metadata": {},
       "output_type": "pyout",
<<<<<<< HEAD
       "prompt_number": 19,
=======
       "prompt_number": 25,
>>>>>>> c12189d13aa0bd83125b744a8ab1fa88ba0ee317
       "text": [
        "             name       title seniority  unix_time  \\\n",
        "mid                                                  \n",
        "1611  John Arnold  VP Trading    Senior  954317280   \n",
        "1615  John Arnold  VP Trading    Senior  954328920   \n",
        "1722  John Arnold  VP Trading    Senior  955447080   \n",
        "1723  John Arnold  VP Trading    Senior  955448160   \n",
        "1763  John Arnold  VP Trading    Senior  955701240   \n",
        "\n",
        "                               subject  from_eid  \n",
        "mid                                               \n",
        "1611         Re: Insurance Call Spread         1  \n",
        "1615  New curve generation methodology         1  \n",
        "1722  Option Analysis on NG Price Book         1  \n",
        "1723                                           1  \n",
        "1763                       Re: options         1  "
       ]
      }
     ],
<<<<<<< HEAD
     "prompt_number": 19
=======
     "prompt_number": 25
>>>>>>> c12189d13aa0bd83125b744a8ab1fa88ba0ee317
    },
    {
     "cell_type": "markdown",
     "metadata": {},
     "source": [
      "Histograms are a good way to get a feel for the data. For example:"
     ]
    },
    {
     "cell_type": "code",
     "collapsed": false,
     "input": [
      "MessageBase.unix_time.hist()"
     ],
     "language": "python",
     "metadata": {},
     "outputs": [
      {
       "metadata": {},
       "output_type": "pyout",
<<<<<<< HEAD
       "prompt_number": 20,
       "text": [
        "<matplotlib.axes._subplots.AxesSubplot at 0x10a05f8d0>"
=======
       "prompt_number": 26,
       "text": [
        "<matplotlib.axes._subplots.AxesSubplot at 0x10b276c50>"
>>>>>>> c12189d13aa0bd83125b744a8ab1fa88ba0ee317
       ]
      },
      {
       "metadata": {},
       "output_type": "display_data",
<<<<<<< HEAD
       "png": "iVBORw0KGgoAAAANSUhEUgAAAYMAAAENCAYAAADt3gm6AAAABHNCSVQICAgIfAhkiAAAAAlwSFlz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\nTkSuQmCC\n",
       "text": [
        "<matplotlib.figure.Figure at 0x10bd9bcd0>"
       ]
      }
     ],
     "prompt_number": 20
=======
       "png": "iVBORw0KGgoAAAANSUhEUgAAAfIAAAFhCAYAAACLYyg9AAAABHNCSVQICAgIfAhkiAAAAAlwSFlz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\n",
       "text": [
        "<matplotlib.figure.Figure at 0x10b276a90>"
       ]
      }
     ],
     "prompt_number": 26
>>>>>>> c12189d13aa0bd83125b744a8ab1fa88ba0ee317
    },
    {
     "cell_type": "code",
     "collapsed": false,
     "input": [
      "MessageBase.unix_time.mean()"
     ],
     "language": "python",
     "metadata": {},
     "outputs": [
      {
       "metadata": {},
       "output_type": "pyout",
<<<<<<< HEAD
       "prompt_number": 21,
=======
       "prompt_number": 27,
>>>>>>> c12189d13aa0bd83125b744a8ab1fa88ba0ee317
       "text": [
        "985319365.65994918"
       ]
      }
     ],
<<<<<<< HEAD
     "prompt_number": 21
=======
     "prompt_number": 27
>>>>>>> c12189d13aa0bd83125b744a8ab1fa88ba0ee317
    },
    {
     "cell_type": "markdown",
     "metadata": {},
     "source": [
      "What does this tell us? "
     ]
    },
    {
     "cell_type": "markdown",
     "metadata": {},
     "source": [
      "---"
     ]
    },
    {
     "cell_type": "markdown",
     "metadata": {},
     "source": [
      "`unix_time` (i.e. `unixepoch`) is easy for computers to read, but difficult for humans. It is the number of seconds since midnight, January 1, 1970. To make it more readable, we will map datetime.fromtimestamp onto that value to return a datetime object. We can then downsample the data from seconds to weeks. "
     ]
    },
    {
     "cell_type": "code",
     "collapsed": false,
     "input": [
      "from datetime import datetime\n",
      "dt = MessageBase.unix_time.map(datetime.fromtimestamp)\n",
      "plt.plot(MessageBase.groupby(dt).unix_time.count().resample('1W', how='sum'))"
     ],
     "language": "python",
     "metadata": {},
     "outputs": [
      {
       "metadata": {},
       "output_type": "pyout",
<<<<<<< HEAD
       "prompt_number": 22,
       "text": [
        "<matplotlib.axes._subplots.AxesSubplot at 0x10b3be150>"
=======
       "prompt_number": 31,
       "text": [
        "[<matplotlib.lines.Line2D at 0x10c822950>]"
>>>>>>> c12189d13aa0bd83125b744a8ab1fa88ba0ee317
       ]
      },
      {
       "metadata": {},
       "output_type": "display_data",
<<<<<<< HEAD
       "png": "iVBORw0KGgoAAAANSUhEUgAAAXMAAAEcCAYAAAA1GFQdAAAABHNCSVQICAgIfAhkiAAAAAlwSFlz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\n4zhVgIu54zhOFeBi7jiOUwX8f+3FBLMhBfipAAAAAElFTkSuQmCC\n",
       "text": [
        "<matplotlib.figure.Figure at 0x10a05fc50>"
       ]
      }
     ],
     "prompt_number": 22
=======
       "png": "iVBORw0KGgoAAAANSUhEUgAAAesAAAFVCAYAAADPM8ekAAAABHNCSVQICAgIfAhkiAAAAAlwSFlz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\n",
       "text": [
        "<matplotlib.figure.Figure at 0x10c618990>"
       ]
      }
     ],
     "prompt_number": 31
>>>>>>> c12189d13aa0bd83125b744a8ab1fa88ba0ee317
    },
    {
     "cell_type": "markdown",
     "metadata": {},
     "source": [
      "What does this tell us?"
     ]
    },
    {
     "cell_type": "markdown",
     "metadata": {},
     "source": [
      "---"
     ]
    },
    {
     "cell_type": "markdown",
     "metadata": {},
     "source": [
      "Perhaps the recipient counts would be interesting as well. This time we will cast `unix_time` to a datetime string in our query. Since this is a new query, we will also make sure it looks okay by calling `.head()` before we do anyting else:"
     ]
    },
    {
     "cell_type": "code",
     "collapsed": false,
     "input": [
      "recipient_counts = pd.read_sql(\"\"\"SELECT mid, datetime(unix_time, 'unixepoch') AS time_sent, MAX(rno) AS recipient_count \n",
      "                        FROM MessageBase JOIN RecipientBase USING (mid) GROUP BY mid, time_sent\"\"\", conn, \"mid\")\n",
      "recipient_counts.head()"
     ],
     "language": "python",
     "metadata": {},
     "outputs": [
      {
       "html": [
        "<div style=\"max-height:1000px;max-width:1500px;overflow:auto;\">\n",
        "<table border=\"1\" class=\"dataframe\">\n",
        "  <thead>\n",
        "    <tr style=\"text-align: right;\">\n",
        "      <th></th>\n",
        "      <th>time_sent</th>\n",
        "      <th>recipient_count</th>\n",
        "    </tr>\n",
        "    <tr>\n",
        "      <th>mid</th>\n",
        "      <th></th>\n",
        "      <th></th>\n",
        "    </tr>\n",
        "  </thead>\n",
        "  <tbody>\n",
        "    <tr>\n",
        "      <th>1</th>\n",
        "      <td> 1998-11-13 04:07:00</td>\n",
        "      <td> 1</td>\n",
        "    </tr>\n",
        "    <tr>\n",
        "      <th>2</th>\n",
        "      <td> 1998-11-19 07:19:00</td>\n",
        "      <td> 1</td>\n",
        "    </tr>\n",
        "    <tr>\n",
        "      <th>3</th>\n",
        "      <td> 1998-11-19 08:24:00</td>\n",
        "      <td> 1</td>\n",
        "    </tr>\n",
        "    <tr>\n",
        "      <th>4</th>\n",
        "      <td> 1998-11-24 02:23:00</td>\n",
        "      <td> 4</td>\n",
        "    </tr>\n",
        "    <tr>\n",
        "      <th>5</th>\n",
        "      <td> 1998-11-30 03:22:00</td>\n",
        "      <td> 2</td>\n",
        "    </tr>\n",
        "  </tbody>\n",
        "</table>\n",
        "</div>"
       ],
       "metadata": {},
       "output_type": "pyout",
<<<<<<< HEAD
       "prompt_number": 24,
=======
       "prompt_number": 29,
>>>>>>> c12189d13aa0bd83125b744a8ab1fa88ba0ee317
       "text": [
        "               time_sent  recipient_count\n",
        "mid                                      \n",
        "1    1998-11-13 04:07:00                1\n",
        "2    1998-11-19 07:19:00                1\n",
        "3    1998-11-19 08:24:00                1\n",
        "4    1998-11-24 02:23:00                4\n",
        "5    1998-11-30 03:22:00                2"
       ]
      }
     ],
<<<<<<< HEAD
     "prompt_number": 24
=======
     "prompt_number": 29
>>>>>>> c12189d13aa0bd83125b744a8ab1fa88ba0ee317
    },
    {
     "cell_type": "markdown",
     "metadata": {},
     "source": [
      "When using `pandas.DataFrame.groupby` it is sometimes useful to create a grouping object first. In this case, we will do it by mapping the datetime strings we received from SQLite to a weekly period. (This could also have been done in SQL, but it would have come across as a string. This way it exists as a `pandas.Period` object which has more intelligence.)"
     ]
    },
    {
     "cell_type": "code",
     "collapsed": false,
     "input": [
      "w = recipient_counts.time_sent.map(lambda dt: pd.Period(dt, freq='W'))\n",
      "recipient_counts.groupby(w).recipient_count.mean().plot()"
     ],
     "language": "python",
     "metadata": {},
     "outputs": [
      {
       "metadata": {},
       "output_type": "pyout",
<<<<<<< HEAD
       "prompt_number": 25,
       "text": [
        "<matplotlib.axes._subplots.AxesSubplot at 0x10c053fd0>"
=======
       "prompt_number": 30,
       "text": [
        "<matplotlib.axes._subplots.AxesSubplot at 0x10b759fd0>"
>>>>>>> c12189d13aa0bd83125b744a8ab1fa88ba0ee317
       ]
      },
      {
       "metadata": {},
       "output_type": "display_data",
<<<<<<< HEAD
       "png": "iVBORw0KGgoAAAANSUhEUgAAAWYAAAEcCAYAAAD0nx6xAAAABHNCSVQICAgIfAhkiAAAAAlwSFlz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\nQmCC\n",
       "text": [
        "<matplotlib.figure.Figure at 0x10c22f390>"
       ]
      }
     ],
     "prompt_number": 25
=======
       "png": "iVBORw0KGgoAAAANSUhEUgAAAdgAAAFvCAYAAADpFtpUAAAABHNCSVQICAgIfAhkiAAAAAlwSFlz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\n",
       "text": [
        "<matplotlib.figure.Figure at 0x10b94b050>"
       ]
      }
     ],
     "prompt_number": 30
>>>>>>> c12189d13aa0bd83125b744a8ab1fa88ba0ee317
    },
    {
     "cell_type": "markdown",
     "metadata": {},
     "source": [
      "In Pairs: (Trade Partners)\n",
      "---------\n",
      "1. Plot the max recipient count by week. How many peaks are there?\n",
      "2. What were the subject lines (if any) of the top 5 messages sorted by recipient count (in descending order)?\n",
      "3. Come up with three more questions about these data (and answer them)"
     ]
    },
    {
     "cell_type": "code",
     "collapsed": false,
     "input": [
      "w = recipient_counts.time_sent.map(lambda dt: pd.Period(dt, freq='W'))\n",
      "recipient_counts.groupby(subject).recipient_count.max().plot()"
     ],
     "language": "python",
     "metadata": {},
     "outputs": [
      {
       "ename": "NameError",
       "evalue": "name 'subject' is not defined",
       "output_type": "pyerr",
       "traceback": [
        "\u001b[0;31m---------------------------------------------------------------------------\u001b[0m\n\u001b[0;31mNameError\u001b[0m                                 Traceback (most recent call last)",
        "\u001b[0;32m<ipython-input-40-b150b9399906>\u001b[0m in \u001b[0;36m<module>\u001b[0;34m()\u001b[0m\n\u001b[1;32m      1\u001b[0m \u001b[0mw\u001b[0m \u001b[0;34m=\u001b[0m \u001b[0mrecipient_counts\u001b[0m\u001b[0;34m.\u001b[0m\u001b[0mtime_sent\u001b[0m\u001b[0;34m.\u001b[0m\u001b[0mmap\u001b[0m\u001b[0;34m(\u001b[0m\u001b[0;32mlambda\u001b[0m \u001b[0mdt\u001b[0m\u001b[0;34m:\u001b[0m \u001b[0mpd\u001b[0m\u001b[0;34m.\u001b[0m\u001b[0mPeriod\u001b[0m\u001b[0;34m(\u001b[0m\u001b[0mdt\u001b[0m\u001b[0;34m,\u001b[0m \u001b[0mfreq\u001b[0m\u001b[0;34m=\u001b[0m\u001b[0;34m'W'\u001b[0m\u001b[0;34m)\u001b[0m\u001b[0;34m)\u001b[0m\u001b[0;34m\u001b[0m\u001b[0m\n\u001b[0;32m----> 2\u001b[0;31m \u001b[0mrecipient_counts\u001b[0m\u001b[0;34m.\u001b[0m\u001b[0mgroupby\u001b[0m\u001b[0;34m(\u001b[0m\u001b[0msubject\u001b[0m\u001b[0;34m)\u001b[0m\u001b[0;34m.\u001b[0m\u001b[0mrecipient_count\u001b[0m\u001b[0;34m.\u001b[0m\u001b[0mmax\u001b[0m\u001b[0;34m(\u001b[0m\u001b[0;34m)\u001b[0m\u001b[0;34m.\u001b[0m\u001b[0mplot\u001b[0m\u001b[0;34m(\u001b[0m\u001b[0;34m)\u001b[0m\u001b[0;34m\u001b[0m\u001b[0m\n\u001b[0m",
        "\u001b[0;31mNameError\u001b[0m: name 'subject' is not defined"
       ]
      }
     ],
     "prompt_number": 40
    },
    {
     "cell_type": "code",
     "collapsed": false,
     "input": [
      "RecipientBase = pd.read_sql(\"SELECT * FROM RecipientBase\", conn, \"mid\")\n",
      "NewTable = MessageBase.join(recipient_counts)\n",
      "NewTable.head()\n",
      "izzy = NewTable.groupby(NewTable.subject).recipient_count.max()\n",
      "izzy.sort()\n",
      "izzy.tail().plot()"
     ],
     "language": "python",
     "metadata": {},
     "outputs": [
      {
       "metadata": {},
       "output_type": "pyout",
       "prompt_number": 62,
       "text": [
        "<matplotlib.axes._subplots.AxesSubplot at 0x110d34f50>"
       ]
      },
      {
       "metadata": {},
       "output_type": "display_data",
       "png": "iVBORw0KGgoAAAANSUhEUgAAAYYAAAEPCAYAAABGP2P1AAAABHNCSVQICAgIfAhkiAAAAAlwSFlz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\nMP8fTQzOczcsIQwAAAAASUVORK5CYII=\n",
       "text": [
        "<matplotlib.figure.Figure at 0x110d1e950>"
       ]
      }
     ],
     "prompt_number": 62
    },
    {
     "cell_type": "code",
     "collapsed": false,
     "input": [
      "\n"
     ],
     "language": "python",
     "metadata": {},
     "outputs": []
    },
    {
     "cell_type": "code",
     "collapsed": false,
     "input": [],
     "language": "python",
     "metadata": {},
     "outputs": []
    },
    {
     "cell_type": "markdown",
     "metadata": {},
     "source": [
      "http://tinyurl.com/dat-exit-ticket"
     ]
    },
    {
     "cell_type": "markdown",
     "metadata": {},
     "source": [
      "On your own:\n",
      "------------\n",
      "- Go through [Pandas for SQL Developers](http://localhost:8888/notebooks/DAT_SF_12/Pandas%20for%20SQL%20Developers.ipynb)\n",
      "- Go through tutorials at http://stanford.edu/~mwaskom/software/seaborn/."
     ]
    },
    {
     "cell_type": "markdown",
     "metadata": {},
     "source": [
      "Next Time:\n",
      "============\n",
      "APIs & NoSQL\n",
      "------------\n",
      "1. Go to http://brew.sh/ and follow the instructions to install Homebrew on your Mac.\n",
      "2. Install MongoDB\n",
      "    - `brew update`\n",
      "    - `brew install mongodb`\n",
      "1. If you don't already have a Twitter account, make one.\n",
      "2. Go to [apps.twitter.com](https://apps.twitter.com/) and create a new app.\n"
     ]
    }
   ],
   "metadata": {}
  }
 ]
}