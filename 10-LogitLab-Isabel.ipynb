{
 "metadata": {
  "name": "",
  "signature": "sha256:a38ba0bb32750ff8565cc587607925f645173f7275e1881d16b29f580525a6b9"
 },
 "nbformat": 3,
 "nbformat_minor": 0,
 "worksheets": [
  {
   "cells": [
    {
     "cell_type": "heading",
     "level": 1,
     "metadata": {},
     "source": [
      "Lab - Choice Modeling"
     ]
    },
    {
     "cell_type": "markdown",
     "metadata": {},
     "source": [
      "---\n",
      "## *Don't forget to make a copy first!*\n",
      "---"
     ]
    },
    {
     "cell_type": "code",
     "collapsed": false,
     "input": [
      "%matplotlib inline\n",
      "\n",
      "import numpy as np\n",
      "import pandas as pd\n",
      "import seaborn as sns\n",
      "import statsmodels.formula.api as smf\n",
      "\n",
      "from itertools import product\n",
      "from seaborn import plt"
     ],
     "language": "python",
     "metadata": {},
     "outputs": [],
     "prompt_number": 1
    },
    {
     "cell_type": "heading",
     "level": 1,
     "metadata": {},
     "source": [
      "Example 1:"
     ]
    },
    {
     "cell_type": "markdown",
     "metadata": {},
     "source": [
      "Adapted from http://www.ats.ucla.edu/stat/r/dae/logit.htm"
     ]
    },
    {
     "cell_type": "code",
     "collapsed": false,
     "input": [
      "x = pd.read_csv(\"http://www.ats.ucla.edu/stat/data/binary.csv\")"
     ],
     "language": "python",
     "metadata": {},
     "outputs": [],
     "prompt_number": 2
    },
    {
     "cell_type": "code",
     "collapsed": false,
     "input": [
      "x.describe().T"
     ],
     "language": "python",
     "metadata": {},
     "outputs": [
      {
       "html": [
        "<div style=\"max-height:1000px;max-width:1500px;overflow:auto;\">\n",
        "<table border=\"1\" class=\"dataframe\">\n",
        "  <thead>\n",
        "    <tr style=\"text-align: right;\">\n",
        "      <th></th>\n",
        "      <th>count</th>\n",
        "      <th>mean</th>\n",
        "      <th>std</th>\n",
        "      <th>min</th>\n",
        "      <th>25%</th>\n",
        "      <th>50%</th>\n",
        "      <th>75%</th>\n",
        "      <th>max</th>\n",
        "    </tr>\n",
        "  </thead>\n",
        "  <tbody>\n",
        "    <tr>\n",
        "      <th>admit</th>\n",
        "      <td> 400</td>\n",
        "      <td>   0.3175</td>\n",
        "      <td>   0.466087</td>\n",
        "      <td>   0.00</td>\n",
        "      <td>   0.00</td>\n",
        "      <td>   0.000</td>\n",
        "      <td>   1.00</td>\n",
        "      <td>   1</td>\n",
        "    </tr>\n",
        "    <tr>\n",
        "      <th>gre</th>\n",
        "      <td> 400</td>\n",
        "      <td> 587.7000</td>\n",
        "      <td> 115.516536</td>\n",
        "      <td> 220.00</td>\n",
        "      <td> 520.00</td>\n",
        "      <td> 580.000</td>\n",
        "      <td> 660.00</td>\n",
        "      <td> 800</td>\n",
        "    </tr>\n",
        "    <tr>\n",
        "      <th>gpa</th>\n",
        "      <td> 400</td>\n",
        "      <td>   3.3899</td>\n",
        "      <td>   0.380567</td>\n",
        "      <td>   2.26</td>\n",
        "      <td>   3.13</td>\n",
        "      <td>   3.395</td>\n",
        "      <td>   3.67</td>\n",
        "      <td>   4</td>\n",
        "    </tr>\n",
        "    <tr>\n",
        "      <th>rank</th>\n",
        "      <td> 400</td>\n",
        "      <td>   2.4850</td>\n",
        "      <td>   0.944460</td>\n",
        "      <td>   1.00</td>\n",
        "      <td>   2.00</td>\n",
        "      <td>   2.000</td>\n",
        "      <td>   3.00</td>\n",
        "      <td>   4</td>\n",
        "    </tr>\n",
        "  </tbody>\n",
        "</table>\n",
        "</div>"
       ],
       "metadata": {},
       "output_type": "pyout",
       "prompt_number": 5,
       "text": [
        "       count      mean         std     min     25%      50%     75%  max\n",
        "admit    400    0.3175    0.466087    0.00    0.00    0.000    1.00    1\n",
        "gre      400  587.7000  115.516536  220.00  520.00  580.000  660.00  800\n",
        "gpa      400    3.3899    0.380567    2.26    3.13    3.395    3.67    4\n",
        "rank     400    2.4850    0.944460    1.00    2.00    2.000    3.00    4"
       ]
      }
     ],
     "prompt_number": 5
    },
    {
     "cell_type": "markdown",
     "metadata": {},
     "source": [
      "*...what does* `.T` *do?*"
     ]
    },
    {
     "cell_type": "code",
     "collapsed": false,
     "input": [
      "x.pivot_table(values='gre', index='admit', columns='rank', aggfunc='count')  # cross-tab"
     ],
     "language": "python",
     "metadata": {},
     "outputs": [
      {
       "html": [
        "<div style=\"max-height:1000px;max-width:1500px;overflow:auto;\">\n",
        "<table border=\"1\" class=\"dataframe\">\n",
        "  <thead>\n",
        "    <tr style=\"text-align: right;\">\n",
        "      <th>rank</th>\n",
        "      <th>1</th>\n",
        "      <th>2</th>\n",
        "      <th>3</th>\n",
        "      <th>4</th>\n",
        "    </tr>\n",
        "    <tr>\n",
        "      <th>admit</th>\n",
        "      <th></th>\n",
        "      <th></th>\n",
        "      <th></th>\n",
        "      <th></th>\n",
        "    </tr>\n",
        "  </thead>\n",
        "  <tbody>\n",
        "    <tr>\n",
        "      <th>0</th>\n",
        "      <td> 28</td>\n",
        "      <td> 97</td>\n",
        "      <td> 93</td>\n",
        "      <td> 55</td>\n",
        "    </tr>\n",
        "    <tr>\n",
        "      <th>1</th>\n",
        "      <td> 33</td>\n",
        "      <td> 54</td>\n",
        "      <td> 28</td>\n",
        "      <td> 12</td>\n",
        "    </tr>\n",
        "  </tbody>\n",
        "</table>\n",
        "</div>"
       ],
       "metadata": {},
       "output_type": "pyout",
       "prompt_number": 36,
       "text": [
        "rank    1   2   3   4\n",
        "admit                \n",
        "0      28  97  93  55\n",
        "1      33  54  28  12"
       ]
      }
     ],
     "prompt_number": 36
    },
    {
     "cell_type": "markdown",
     "metadata": {},
     "source": [
      "## Linear Fit:"
     ]
    },
    {
     "cell_type": "code",
     "collapsed": false,
     "input": [
      "lin = smf.ols('admit ~ gre + gpa + rank', x)\n",
      "lin.fit().summary()"
     ],
     "language": "python",
     "metadata": {},
     "outputs": [
      {
       "html": [
        "<table class=\"simpletable\">\n",
        "<caption>OLS Regression Results</caption>\n",
        "<tr>\n",
        "  <th>Dep. Variable:</th>          <td>admit</td>      <th>  R-squared:         </th> <td>   0.096</td>\n",
        "</tr>\n",
        "<tr>\n",
        "  <th>Model:</th>                   <td>OLS</td>       <th>  Adj. R-squared:    </th> <td>   0.089</td>\n",
        "</tr>\n",
        "<tr>\n",
        "  <th>Method:</th>             <td>Least Squares</td>  <th>  F-statistic:       </th> <td>   14.02</td>\n",
        "</tr>\n",
        "<tr>\n",
        "  <th>Date:</th>             <td>Tue, 17 Feb 2015</td> <th>  Prob (F-statistic):</th> <td>1.05e-08</td>\n",
        "</tr>\n",
        "<tr>\n",
        "  <th>Time:</th>                 <td>20:00:43</td>     <th>  Log-Likelihood:    </th> <td> -241.53</td>\n",
        "</tr>\n",
        "<tr>\n",
        "  <th>No. Observations:</th>      <td>   400</td>      <th>  AIC:               </th> <td>   491.1</td>\n",
        "</tr>\n",
        "<tr>\n",
        "  <th>Df Residuals:</th>          <td>   396</td>      <th>  BIC:               </th> <td>   507.0</td>\n",
        "</tr>\n",
        "<tr>\n",
        "  <th>Df Model:</th>              <td>     3</td>      <th>                     </th>     <td> </td>   \n",
        "</tr>\n",
        "</table>\n",
        "<table class=\"simpletable\">\n",
        "<tr>\n",
        "      <td></td>         <th>coef</th>     <th>std err</th>      <th>t</th>      <th>P>|t|</th> <th>[95.0% Conf. Int.]</th> \n",
        "</tr>\n",
        "<tr>\n",
        "  <th>Intercept</th> <td>   -0.1824</td> <td>    0.217</td> <td>   -0.841</td> <td> 0.401</td> <td>   -0.609     0.244</td>\n",
        "</tr>\n",
        "<tr>\n",
        "  <th>gre</th>       <td>    0.0004</td> <td>    0.000</td> <td>    2.106</td> <td> 0.036</td> <td> 2.94e-05     0.001</td>\n",
        "</tr>\n",
        "<tr>\n",
        "  <th>gpa</th>       <td>    0.1510</td> <td>    0.063</td> <td>    2.383</td> <td> 0.018</td> <td>    0.026     0.276</td>\n",
        "</tr>\n",
        "<tr>\n",
        "  <th>rank</th>      <td>   -0.1095</td> <td>    0.024</td> <td>   -4.608</td> <td> 0.000</td> <td>   -0.156    -0.063</td>\n",
        "</tr>\n",
        "</table>\n",
        "<table class=\"simpletable\">\n",
        "<tr>\n",
        "  <th>Omnibus:</th>       <td>190.649</td> <th>  Durbin-Watson:     </th> <td>   1.950</td>\n",
        "</tr>\n",
        "<tr>\n",
        "  <th>Prob(Omnibus):</th> <td> 0.000</td>  <th>  Jarque-Bera (JB):  </th> <td>  51.425</td>\n",
        "</tr>\n",
        "<tr>\n",
        "  <th>Skew:</th>          <td> 0.667</td>  <th>  Prob(JB):          </th> <td>6.81e-12</td>\n",
        "</tr>\n",
        "<tr>\n",
        "  <th>Kurtosis:</th>      <td> 1.858</td>  <th>  Cond. No.          </th> <td>6.00e+03</td>\n",
        "</tr>\n",
        "</table>"
       ],
       "metadata": {},
       "output_type": "pyout",
       "prompt_number": 7,
       "text": [
        "<class 'statsmodels.iolib.summary.Summary'>\n",
        "\"\"\"\n",
        "                            OLS Regression Results                            \n",
        "==============================================================================\n",
        "Dep. Variable:                  admit   R-squared:                       0.096\n",
        "Model:                            OLS   Adj. R-squared:                  0.089\n",
        "Method:                 Least Squares   F-statistic:                     14.02\n",
        "Date:                Tue, 17 Feb 2015   Prob (F-statistic):           1.05e-08\n",
        "Time:                        20:00:43   Log-Likelihood:                -241.53\n",
        "No. Observations:                 400   AIC:                             491.1\n",
        "Df Residuals:                     396   BIC:                             507.0\n",
        "Df Model:                           3                                         \n",
        "==============================================================================\n",
        "                 coef    std err          t      P>|t|      [95.0% Conf. Int.]\n",
        "------------------------------------------------------------------------------\n",
        "Intercept     -0.1824      0.217     -0.841      0.401        -0.609     0.244\n",
        "gre            0.0004      0.000      2.106      0.036      2.94e-05     0.001\n",
        "gpa            0.1510      0.063      2.383      0.018         0.026     0.276\n",
        "rank          -0.1095      0.024     -4.608      0.000        -0.156    -0.063\n",
        "==============================================================================\n",
        "Omnibus:                      190.649   Durbin-Watson:                   1.950\n",
        "Prob(Omnibus):                  0.000   Jarque-Bera (JB):               51.425\n",
        "Skew:                           0.667   Prob(JB):                     6.81e-12\n",
        "Kurtosis:                       1.858   Cond. No.                     6.00e+03\n",
        "==============================================================================\n",
        "\n",
        "Warnings:\n",
        "[1] The condition number is large,  6e+03. This might indicate that there are\n",
        "strong multicollinearity or other numerical problems.\n",
        "\"\"\""
       ]
      }
     ],
     "prompt_number": 7
    },
    {
     "cell_type": "code",
     "collapsed": false,
     "input": [
      "# jitter helps spread out dense clusters of data on a graph\n",
      "\n",
      "y_hat = lin.fit().predict()\n",
      "# plt.scatter(x.admit, y_hat)\n",
      "x[\"y_hat\"] =y_hat\n",
      "sns.lmplot(\"admit\",\"y_hat\", x,x_jitter=0.2)"
     ],
     "language": "python",
     "metadata": {},
     "outputs": [
      {
       "metadata": {},
       "output_type": "pyout",
       "prompt_number": 61,
       "text": [
        "<seaborn.axisgrid.FacetGrid at 0x10c7c3910>"
       ]
      },
      {
       "metadata": {},
       "output_type": "display_data",
       "png": "[encoded data removed]",
       "text": [
        "<matplotlib.figure.Figure at 0x10c7c37d0>"
       ]
      }
     ],
     "prompt_number": 61
    },
    {
     "cell_type": "code",
     "collapsed": false,
     "input": [
      "plt.plot(y_hat)"
     ],
     "language": "python",
     "metadata": {},
     "outputs": [
      {
       "metadata": {},
       "output_type": "pyout",
       "prompt_number": 50,
       "text": [
        "[<matplotlib.lines.Line2D at 0x10cb144d0>]"
       ]
      },
      {
       "metadata": {},
       "output_type": "display_data",
       "png": "[encoded data removed]",
       "text": [
        "<matplotlib.figure.Figure at 0x10ceab350>"
       ]
      }
     ],
     "prompt_number": 50
    },
    {
     "cell_type": "code",
     "collapsed": false,
     "input": [
      "lin0 = smf.ols('admit ~ 0 + gre + gpa + rank', x)\n",
      "lin0.fit().summary()"
     ],
     "language": "python",
     "metadata": {},
     "outputs": [
      {
       "html": [
        "<table class=\"simpletable\">\n",
        "<caption>OLS Regression Results</caption>\n",
        "<tr>\n",
        "  <th>Dep. Variable:</th>          <td>admit</td>      <th>  R-squared:         </th> <td>   0.382</td>\n",
        "</tr>\n",
        "<tr>\n",
        "  <th>Model:</th>                   <td>OLS</td>       <th>  Adj. R-squared:    </th> <td>   0.377</td>\n",
        "</tr>\n",
        "<tr>\n",
        "  <th>Method:</th>             <td>Least Squares</td>  <th>  F-statistic:       </th> <td>   81.77</td>\n",
        "</tr>\n",
        "<tr>\n",
        "  <th>Date:</th>             <td>Tue, 17 Feb 2015</td> <th>  Prob (F-statistic):</th> <td>3.28e-41</td>\n",
        "</tr>\n",
        "<tr>\n",
        "  <th>Time:</th>                 <td>20:34:18</td>     <th>  Log-Likelihood:    </th> <td> -241.89</td>\n",
        "</tr>\n",
        "<tr>\n",
        "  <th>No. Observations:</th>      <td>   400</td>      <th>  AIC:               </th> <td>   489.8</td>\n",
        "</tr>\n",
        "<tr>\n",
        "  <th>Df Residuals:</th>          <td>   397</td>      <th>  BIC:               </th> <td>   501.8</td>\n",
        "</tr>\n",
        "<tr>\n",
        "  <th>Df Model:</th>              <td>     3</td>      <th>                     </th>     <td> </td>   \n",
        "</tr>\n",
        "</table>\n",
        "<table class=\"simpletable\">\n",
        "<tr>\n",
        "    <td></td>      <th>coef</th>     <th>std err</th>      <th>t</th>      <th>P>|t|</th> <th>[95.0% Conf. Int.]</th> \n",
        "</tr>\n",
        "<tr>\n",
        "  <th>gre</th>  <td>    0.0004</td> <td>    0.000</td> <td>    1.969</td> <td> 0.050</td> <td> 6.59e-07     0.001</td>\n",
        "</tr>\n",
        "<tr>\n",
        "  <th>gpa</th>  <td>    0.1097</td> <td>    0.040</td> <td>    2.747</td> <td> 0.006</td> <td>    0.031     0.188</td>\n",
        "</tr>\n",
        "<tr>\n",
        "  <th>rank</th> <td>   -0.1164</td> <td>    0.022</td> <td>   -5.222</td> <td> 0.000</td> <td>   -0.160    -0.073</td>\n",
        "</tr>\n",
        "</table>\n",
        "<table class=\"simpletable\">\n",
        "<tr>\n",
        "  <th>Omnibus:</th>       <td>204.151</td> <th>  Durbin-Watson:     </th> <td>   1.957</td>\n",
        "</tr>\n",
        "<tr>\n",
        "  <th>Prob(Omnibus):</th> <td> 0.000</td>  <th>  Jarque-Bera (JB):  </th> <td>  52.878</td>\n",
        "</tr>\n",
        "<tr>\n",
        "  <th>Skew:</th>          <td> 0.678</td>  <th>  Prob(JB):          </th> <td>3.29e-12</td>\n",
        "</tr>\n",
        "<tr>\n",
        "  <th>Kurtosis:</th>      <td> 1.845</td>  <th>  Cond. No.          </th> <td>1.12e+03</td>\n",
        "</tr>\n",
        "</table>"
       ],
       "metadata": {},
       "output_type": "pyout",
       "prompt_number": 51,
       "text": [
        "<class 'statsmodels.iolib.summary.Summary'>\n",
        "\"\"\"\n",
        "                            OLS Regression Results                            \n",
        "==============================================================================\n",
        "Dep. Variable:                  admit   R-squared:                       0.382\n",
        "Model:                            OLS   Adj. R-squared:                  0.377\n",
        "Method:                 Least Squares   F-statistic:                     81.77\n",
        "Date:                Tue, 17 Feb 2015   Prob (F-statistic):           3.28e-41\n",
        "Time:                        20:34:18   Log-Likelihood:                -241.89\n",
        "No. Observations:                 400   AIC:                             489.8\n",
        "Df Residuals:                     397   BIC:                             501.8\n",
        "Df Model:                           3                                         \n",
        "==============================================================================\n",
        "                 coef    std err          t      P>|t|      [95.0% Conf. Int.]\n",
        "------------------------------------------------------------------------------\n",
        "gre            0.0004      0.000      1.969      0.050      6.59e-07     0.001\n",
        "gpa            0.1097      0.040      2.747      0.006         0.031     0.188\n",
        "rank          -0.1164      0.022     -5.222      0.000        -0.160    -0.073\n",
        "==============================================================================\n",
        "Omnibus:                      204.151   Durbin-Watson:                   1.957\n",
        "Prob(Omnibus):                  0.000   Jarque-Bera (JB):               52.878\n",
        "Skew:                           0.678   Prob(JB):                     3.29e-12\n",
        "Kurtosis:                       1.845   Cond. No.                     1.12e+03\n",
        "==============================================================================\n",
        "\n",
        "Warnings:\n",
        "[1] The condition number is large, 1.12e+03. This might indicate that there are\n",
        "strong multicollinearity or other numerical problems.\n",
        "\"\"\""
       ]
      }
     ],
     "prompt_number": 51
    },
    {
     "cell_type": "markdown",
     "metadata": {},
     "source": [
      "## Logit:"
     ]
    },
    {
     "cell_type": "code",
     "collapsed": false,
     "input": [
      "lgt = smf.logit('admit ~ gre + gpa + rank', x)\n",
      "logit_fit = lgt.fit()\n",
      "logit_fit.summary()"
     ],
     "language": "python",
     "metadata": {},
     "outputs": [
      {
       "output_type": "stream",
       "stream": "stdout",
       "text": [
        "Optimization terminated successfully.\n",
        "         Current function value: 0.574302\n",
        "         Iterations 6\n"
       ]
      },
      {
       "html": [
        "<table class=\"simpletable\">\n",
        "<caption>Logit Regression Results</caption>\n",
        "<tr>\n",
        "  <th>Dep. Variable:</th>       <td>admit</td>      <th>  No. Observations:  </th>  <td>   400</td>  \n",
        "</tr>\n",
        "<tr>\n",
        "  <th>Model:</th>               <td>Logit</td>      <th>  Df Residuals:      </th>  <td>   396</td>  \n",
        "</tr>\n",
        "<tr>\n",
        "  <th>Method:</th>               <td>MLE</td>       <th>  Df Model:          </th>  <td>     3</td>  \n",
        "</tr>\n",
        "<tr>\n",
        "  <th>Date:</th>          <td>Tue, 17 Feb 2015</td> <th>  Pseudo R-squ.:     </th>  <td>0.08107</td> \n",
        "</tr>\n",
        "<tr>\n",
        "  <th>Time:</th>              <td>20:35:03</td>     <th>  Log-Likelihood:    </th> <td> -229.72</td> \n",
        "</tr>\n",
        "<tr>\n",
        "  <th>converged:</th>           <td>True</td>       <th>  LL-Null:           </th> <td> -249.99</td> \n",
        "</tr>\n",
        "<tr>\n",
        "  <th> </th>                      <td> </td>        <th>  LLR p-value:       </th> <td>8.207e-09</td>\n",
        "</tr>\n",
        "</table>\n",
        "<table class=\"simpletable\">\n",
        "<tr>\n",
        "      <td></td>         <th>coef</th>     <th>std err</th>      <th>z</th>      <th>P>|z|</th> <th>[95.0% Conf. Int.]</th> \n",
        "</tr>\n",
        "<tr>\n",
        "  <th>Intercept</th> <td>   -3.4495</td> <td>    1.133</td> <td>   -3.045</td> <td> 0.002</td> <td>   -5.670    -1.229</td>\n",
        "</tr>\n",
        "<tr>\n",
        "  <th>gre</th>       <td>    0.0023</td> <td>    0.001</td> <td>    2.101</td> <td> 0.036</td> <td>    0.000     0.004</td>\n",
        "</tr>\n",
        "<tr>\n",
        "  <th>gpa</th>       <td>    0.7770</td> <td>    0.327</td> <td>    2.373</td> <td> 0.018</td> <td>    0.135     1.419</td>\n",
        "</tr>\n",
        "<tr>\n",
        "  <th>rank</th>      <td>   -0.5600</td> <td>    0.127</td> <td>   -4.405</td> <td> 0.000</td> <td>   -0.809    -0.311</td>\n",
        "</tr>\n",
        "</table>"
       ],
       "metadata": {},
       "output_type": "pyout",
       "prompt_number": 53,
       "text": [
        "<class 'statsmodels.iolib.summary.Summary'>\n",
        "\"\"\"\n",
        "                           Logit Regression Results                           \n",
        "==============================================================================\n",
        "Dep. Variable:                  admit   No. Observations:                  400\n",
        "Model:                          Logit   Df Residuals:                      396\n",
        "Method:                           MLE   Df Model:                            3\n",
        "Date:                Tue, 17 Feb 2015   Pseudo R-squ.:                 0.08107\n",
        "Time:                        20:35:03   Log-Likelihood:                -229.72\n",
        "converged:                       True   LL-Null:                       -249.99\n",
        "                                        LLR p-value:                 8.207e-09\n",
        "==============================================================================\n",
        "                 coef    std err          z      P>|z|      [95.0% Conf. Int.]\n",
        "------------------------------------------------------------------------------\n",
        "Intercept     -3.4495      1.133     -3.045      0.002        -5.670    -1.229\n",
        "gre            0.0023      0.001      2.101      0.036         0.000     0.004\n",
        "gpa            0.7770      0.327      2.373      0.018         0.135     1.419\n",
        "rank          -0.5600      0.127     -4.405      0.000        -0.809    -0.311\n",
        "==============================================================================\n",
        "\"\"\""
       ]
      }
     ],
     "prompt_number": 53
    },
    {
     "cell_type": "markdown",
     "metadata": {},
     "source": [
      "coeffs -> chg in log-odds of the output variable for unit increase in the input variable"
     ]
    },
    {
     "cell_type": "markdown",
     "metadata": {},
     "source": [
      "### Factor Rank:"
     ]
    },
    {
     "cell_type": "code",
     "collapsed": false,
     "input": [
      "x['rank_factor'] = x['rank'].astype(object)\n",
      "# add a helper column to the data frame"
     ],
     "language": "python",
     "metadata": {},
     "outputs": [],
     "prompt_number": 57
    },
    {
     "cell_type": "code",
     "collapsed": false,
     "input": [
      "x.describe().T"
     ],
     "language": "python",
     "metadata": {},
     "outputs": [
      {
       "html": [
        "<div style=\"max-height:1000px;max-width:1500px;overflow:auto;\">\n",
        "<table border=\"1\" class=\"dataframe\">\n",
        "  <thead>\n",
        "    <tr style=\"text-align: right;\">\n",
        "      <th></th>\n",
        "      <th>count</th>\n",
        "      <th>mean</th>\n",
        "      <th>std</th>\n",
        "      <th>min</th>\n",
        "      <th>25%</th>\n",
        "      <th>50%</th>\n",
        "      <th>75%</th>\n",
        "      <th>max</th>\n",
        "    </tr>\n",
        "  </thead>\n",
        "  <tbody>\n",
        "    <tr>\n",
        "      <th>admit</th>\n",
        "      <td> 400</td>\n",
        "      <td>   0.3175</td>\n",
        "      <td>   0.466087</td>\n",
        "      <td>   0.000000</td>\n",
        "      <td>   0.000000</td>\n",
        "      <td>   0.000000</td>\n",
        "      <td>   1.000000</td>\n",
        "      <td>   1.000000</td>\n",
        "    </tr>\n",
        "    <tr>\n",
        "      <th>gre</th>\n",
        "      <td> 400</td>\n",
        "      <td> 587.7000</td>\n",
        "      <td> 115.516536</td>\n",
        "      <td> 220.000000</td>\n",
        "      <td> 520.000000</td>\n",
        "      <td> 580.000000</td>\n",
        "      <td> 660.000000</td>\n",
        "      <td> 800.000000</td>\n",
        "    </tr>\n",
        "    <tr>\n",
        "      <th>gpa</th>\n",
        "      <td> 400</td>\n",
        "      <td>   3.3899</td>\n",
        "      <td>   0.380567</td>\n",
        "      <td>   2.260000</td>\n",
        "      <td>   3.130000</td>\n",
        "      <td>   3.395000</td>\n",
        "      <td>   3.670000</td>\n",
        "      <td>   4.000000</td>\n",
        "    </tr>\n",
        "    <tr>\n",
        "      <th>rank</th>\n",
        "      <td> 400</td>\n",
        "      <td>   2.4850</td>\n",
        "      <td>   0.944460</td>\n",
        "      <td>   1.000000</td>\n",
        "      <td>   2.000000</td>\n",
        "      <td>   2.000000</td>\n",
        "      <td>   3.000000</td>\n",
        "      <td>   4.000000</td>\n",
        "    </tr>\n",
        "    <tr>\n",
        "      <th>y_hat</th>\n",
        "      <td> 400</td>\n",
        "      <td>   0.3175</td>\n",
        "      <td>   0.144422</td>\n",
        "      <td>  -0.093251</td>\n",
        "      <td>   0.211757</td>\n",
        "      <td>   0.328047</td>\n",
        "      <td>   0.412215</td>\n",
        "      <td>   0.666187</td>\n",
        "    </tr>\n",
        "    <tr>\n",
        "      <th>y_hat_ols</th>\n",
        "      <td> 400</td>\n",
        "      <td>   0.3175</td>\n",
        "      <td>   0.144422</td>\n",
        "      <td>  -0.093251</td>\n",
        "      <td>   0.211757</td>\n",
        "      <td>   0.328047</td>\n",
        "      <td>   0.412215</td>\n",
        "      <td>   0.666187</td>\n",
        "    </tr>\n",
        "  </tbody>\n",
        "</table>\n",
        "</div>"
       ],
       "metadata": {},
       "output_type": "pyout",
       "prompt_number": 62,
       "text": [
        "           count      mean         std         min         25%         50%  \\\n",
        "admit        400    0.3175    0.466087    0.000000    0.000000    0.000000   \n",
        "gre          400  587.7000  115.516536  220.000000  520.000000  580.000000   \n",
        "gpa          400    3.3899    0.380567    2.260000    3.130000    3.395000   \n",
        "rank         400    2.4850    0.944460    1.000000    2.000000    2.000000   \n",
        "y_hat        400    0.3175    0.144422   -0.093251    0.211757    0.328047   \n",
        "y_hat_ols    400    0.3175    0.144422   -0.093251    0.211757    0.328047   \n",
        "\n",
        "                  75%         max  \n",
        "admit        1.000000    1.000000  \n",
        "gre        660.000000  800.000000  \n",
        "gpa          3.670000    4.000000  \n",
        "rank         3.000000    4.000000  \n",
        "y_hat        0.412215    0.666187  \n",
        "y_hat_ols    0.412215    0.666187  "
       ]
      }
     ],
     "prompt_number": 62
    },
    {
     "cell_type": "heading",
     "level": 5,
     "metadata": {},
     "source": [
      "*N.B.* `x.rank` *won't work here. We have to use* `x['rank']`"
     ]
    },
    {
     "cell_type": "code",
     "collapsed": false,
     "input": [
      "lgt = smf.logit('admit ~ gre + gpa + rank_factor', x)\n",
      "logit_fit = lgt.fit()\n",
      "logit_fit.summary()\n"
     ],
     "language": "python",
     "metadata": {},
     "outputs": [
      {
       "output_type": "stream",
       "stream": "stdout",
       "text": [
        "Optimization terminated successfully.\n",
        "         Current function value: 0.573147\n",
        "         Iterations 6\n"
       ]
      },
      {
       "html": [
        "<table class=\"simpletable\">\n",
        "<caption>Logit Regression Results</caption>\n",
        "<tr>\n",
        "  <th>Dep. Variable:</th>       <td>admit</td>      <th>  No. Observations:  </th>  <td>   400</td>  \n",
        "</tr>\n",
        "<tr>\n",
        "  <th>Model:</th>               <td>Logit</td>      <th>  Df Residuals:      </th>  <td>   394</td>  \n",
        "</tr>\n",
        "<tr>\n",
        "  <th>Method:</th>               <td>MLE</td>       <th>  Df Model:          </th>  <td>     5</td>  \n",
        "</tr>\n",
        "<tr>\n",
        "  <th>Date:</th>          <td>Tue, 17 Feb 2015</td> <th>  Pseudo R-squ.:     </th>  <td>0.08292</td> \n",
        "</tr>\n",
        "<tr>\n",
        "  <th>Time:</th>              <td>20:41:38</td>     <th>  Log-Likelihood:    </th> <td> -229.26</td> \n",
        "</tr>\n",
        "<tr>\n",
        "  <th>converged:</th>           <td>True</td>       <th>  LL-Null:           </th> <td> -249.99</td> \n",
        "</tr>\n",
        "<tr>\n",
        "  <th> </th>                      <td> </td>        <th>  LLR p-value:       </th> <td>7.578e-08</td>\n",
        "</tr>\n",
        "</table>\n",
        "<table class=\"simpletable\">\n",
        "<tr>\n",
        "          <td></td>            <th>coef</th>     <th>std err</th>      <th>z</th>      <th>P>|z|</th> <th>[95.0% Conf. Int.]</th> \n",
        "</tr>\n",
        "<tr>\n",
        "  <th>Intercept</th>        <td>   -3.9900</td> <td>    1.140</td> <td>   -3.500</td> <td> 0.000</td> <td>   -6.224    -1.756</td>\n",
        "</tr>\n",
        "<tr>\n",
        "  <th>rank_factor[T.2]</th> <td>   -0.6754</td> <td>    0.316</td> <td>   -2.134</td> <td> 0.033</td> <td>   -1.296    -0.055</td>\n",
        "</tr>\n",
        "<tr>\n",
        "  <th>rank_factor[T.3]</th> <td>   -1.3402</td> <td>    0.345</td> <td>   -3.881</td> <td> 0.000</td> <td>   -2.017    -0.663</td>\n",
        "</tr>\n",
        "<tr>\n",
        "  <th>rank_factor[T.4]</th> <td>   -1.5515</td> <td>    0.418</td> <td>   -3.713</td> <td> 0.000</td> <td>   -2.370    -0.733</td>\n",
        "</tr>\n",
        "<tr>\n",
        "  <th>gre</th>              <td>    0.0023</td> <td>    0.001</td> <td>    2.070</td> <td> 0.038</td> <td>    0.000     0.004</td>\n",
        "</tr>\n",
        "<tr>\n",
        "  <th>gpa</th>              <td>    0.8040</td> <td>    0.332</td> <td>    2.423</td> <td> 0.015</td> <td>    0.154     1.454</td>\n",
        "</tr>\n",
        "</table>"
       ],
       "metadata": {},
       "output_type": "pyout",
       "prompt_number": 65,
       "text": [
        "<class 'statsmodels.iolib.summary.Summary'>\n",
        "\"\"\"\n",
        "                           Logit Regression Results                           \n",
        "==============================================================================\n",
        "Dep. Variable:                  admit   No. Observations:                  400\n",
        "Model:                          Logit   Df Residuals:                      394\n",
        "Method:                           MLE   Df Model:                            5\n",
        "Date:                Tue, 17 Feb 2015   Pseudo R-squ.:                 0.08292\n",
        "Time:                        20:41:38   Log-Likelihood:                -229.26\n",
        "converged:                       True   LL-Null:                       -249.99\n",
        "                                        LLR p-value:                 7.578e-08\n",
        "====================================================================================\n",
        "                       coef    std err          z      P>|z|      [95.0% Conf. Int.]\n",
        "------------------------------------------------------------------------------------\n",
        "Intercept           -3.9900      1.140     -3.500      0.000        -6.224    -1.756\n",
        "rank_factor[T.2]    -0.6754      0.316     -2.134      0.033        -1.296    -0.055\n",
        "rank_factor[T.3]    -1.3402      0.345     -3.881      0.000        -2.017    -0.663\n",
        "rank_factor[T.4]    -1.5515      0.418     -3.713      0.000        -2.370    -0.733\n",
        "gre                  0.0023      0.001      2.070      0.038         0.000     0.004\n",
        "gpa                  0.8040      0.332      2.423      0.015         0.154     1.454\n",
        "====================================================================================\n",
        "\"\"\""
       ]
      }
     ],
     "prompt_number": 65
    },
    {
     "cell_type": "markdown",
     "metadata": {},
     "source": [
      "*...why factor?*"
     ]
    },
    {
     "cell_type": "markdown",
     "metadata": {},
     "source": [
      "coeffs of indicator (dummy) vars are slightly different...for example, the coeff of rank2 represents the change in the log-odds of the output variable that comes going to a rank2 school instead of a rank1 school"
     ]
    },
    {
     "cell_type": "markdown",
     "metadata": {},
     "source": [
      "odds ratios can be found by exponentiating the log-odds ratios:"
     ]
    },
    {
     "cell_type": "code",
     "collapsed": false,
     "input": [
      "logit_fit.params.map(np.exp)"
     ],
     "language": "python",
     "metadata": {},
     "outputs": [
      {
       "metadata": {},
       "output_type": "pyout",
       "prompt_number": 15,
       "text": [
        "Intercept           0.018500\n",
        "rank_factor[T.2]    0.508931\n",
        "rank_factor[T.3]    0.261792\n",
        "rank_factor[T.4]    0.211938\n",
        "gre                 1.002267\n",
        "gpa                 2.234545\n",
        "dtype: float64"
       ]
      }
     ],
     "prompt_number": 15
    },
    {
     "cell_type": "markdown",
     "metadata": {},
     "source": [
      "#### *N.B. important to give columns the same names as in the model:*"
     ]
    },
    {
     "cell_type": "code",
     "collapsed": false,
     "input": [
      "new_data = pd.DataFrame({'gre': x.gre.mean(), 'gpa': x.gpa.mean(), \n",
      "                         'rank_factor': np.array(range(1,5), dtype=object)})\n",
      "new_data"
     ],
     "language": "python",
     "metadata": {},
     "outputs": [
      {
       "html": [
        "<div style=\"max-height:1000px;max-width:1500px;overflow:auto;\">\n",
        "<table border=\"1\" class=\"dataframe\">\n",
        "  <thead>\n",
        "    <tr style=\"text-align: right;\">\n",
        "      <th></th>\n",
        "      <th>gpa</th>\n",
        "      <th>gre</th>\n",
        "      <th>rank_factor</th>\n",
        "    </tr>\n",
        "  </thead>\n",
        "  <tbody>\n",
        "    <tr>\n",
        "      <th>0</th>\n",
        "      <td> 3.3899</td>\n",
        "      <td> 587.7</td>\n",
        "      <td> 1</td>\n",
        "    </tr>\n",
        "    <tr>\n",
        "      <th>1</th>\n",
        "      <td> 3.3899</td>\n",
        "      <td> 587.7</td>\n",
        "      <td> 2</td>\n",
        "    </tr>\n",
        "    <tr>\n",
        "      <th>2</th>\n",
        "      <td> 3.3899</td>\n",
        "      <td> 587.7</td>\n",
        "      <td> 3</td>\n",
        "    </tr>\n",
        "    <tr>\n",
        "      <th>3</th>\n",
        "      <td> 3.3899</td>\n",
        "      <td> 587.7</td>\n",
        "      <td> 4</td>\n",
        "    </tr>\n",
        "  </tbody>\n",
        "</table>\n",
        "</div>"
       ],
       "metadata": {},
       "output_type": "pyout",
       "prompt_number": 16,
       "text": [
        "      gpa    gre rank_factor\n",
        "0  3.3899  587.7           1\n",
        "1  3.3899  587.7           2\n",
        "2  3.3899  587.7           3\n",
        "3  3.3899  587.7           4"
       ]
      }
     ],
     "prompt_number": 16
    },
    {
     "cell_type": "markdown",
     "metadata": {},
     "source": [
      "#### predict probs for new data (varying rank):"
     ]
    },
    {
     "cell_type": "code",
     "collapsed": false,
     "input": [
      "new_data['rank_prob'] = logit_fit.predict(new_data)\n",
      "new_data"
     ],
     "language": "python",
     "metadata": {},
     "outputs": [
      {
       "html": [
        "<div style=\"max-height:1000px;max-width:1500px;overflow:auto;\">\n",
        "<table border=\"1\" class=\"dataframe\">\n",
        "  <thead>\n",
        "    <tr style=\"text-align: right;\">\n",
        "      <th></th>\n",
        "      <th>gpa</th>\n",
        "      <th>gre</th>\n",
        "      <th>rank_factor</th>\n",
        "      <th>rank_prob</th>\n",
        "    </tr>\n",
        "  </thead>\n",
        "  <tbody>\n",
        "    <tr>\n",
        "      <th>0</th>\n",
        "      <td> 3.3899</td>\n",
        "      <td> 587.7</td>\n",
        "      <td> 1</td>\n",
        "      <td> 0.516602</td>\n",
        "    </tr>\n",
        "    <tr>\n",
        "      <th>1</th>\n",
        "      <td> 3.3899</td>\n",
        "      <td> 587.7</td>\n",
        "      <td> 2</td>\n",
        "      <td> 0.352285</td>\n",
        "    </tr>\n",
        "    <tr>\n",
        "      <th>2</th>\n",
        "      <td> 3.3899</td>\n",
        "      <td> 587.7</td>\n",
        "      <td> 3</td>\n",
        "      <td> 0.218612</td>\n",
        "    </tr>\n",
        "    <tr>\n",
        "      <th>3</th>\n",
        "      <td> 3.3899</td>\n",
        "      <td> 587.7</td>\n",
        "      <td> 4</td>\n",
        "      <td> 0.184668</td>\n",
        "    </tr>\n",
        "  </tbody>\n",
        "</table>\n",
        "</div>"
       ],
       "metadata": {},
       "output_type": "pyout",
       "prompt_number": 17,
       "text": [
        "      gpa    gre rank_factor  rank_prob\n",
        "0  3.3899  587.7           1   0.516602\n",
        "1  3.3899  587.7           2   0.352285\n",
        "2  3.3899  587.7           3   0.218612\n",
        "3  3.3899  587.7           4   0.184668"
       ]
      }
     ],
     "prompt_number": 17
    },
    {
     "cell_type": "markdown",
     "metadata": {},
     "source": [
      "#### predict probs for new data (varying gre):"
     ]
    },
    {
     "cell_type": "code",
     "collapsed": false,
     "input": [
      "new_data2 = pd.DataFrame(list(product(np.linspace(200, 800, 100), \n",
      "                                      np.array(range(1,5), dtype=object))),\n",
      "                         columns = ['gre', 'rank_factor'])\n",
      "new_data2['gpa'] = x.gpa.mean()\n",
      "new_data2.describe()"
     ],
     "language": "python",
     "metadata": {},
     "outputs": [
      {
       "html": [
        "<div style=\"max-height:1000px;max-width:1500px;overflow:auto;\">\n",
        "<table border=\"1\" class=\"dataframe\">\n",
        "  <thead>\n",
        "    <tr style=\"text-align: right;\">\n",
        "      <th></th>\n",
        "      <th>gre</th>\n",
        "      <th>rank_factor</th>\n",
        "      <th>gpa</th>\n",
        "    </tr>\n",
        "  </thead>\n",
        "  <tbody>\n",
        "    <tr>\n",
        "      <th>count</th>\n",
        "      <td> 400.000000</td>\n",
        "      <td> 400.000000</td>\n",
        "      <td> 400.0000</td>\n",
        "    </tr>\n",
        "    <tr>\n",
        "      <th>mean</th>\n",
        "      <td> 500.000000</td>\n",
        "      <td>   2.500000</td>\n",
        "      <td>   3.3899</td>\n",
        "    </tr>\n",
        "    <tr>\n",
        "      <th>std</th>\n",
        "      <td> 175.164972</td>\n",
        "      <td>   1.119434</td>\n",
        "      <td>   0.0000</td>\n",
        "    </tr>\n",
        "    <tr>\n",
        "      <th>min</th>\n",
        "      <td> 200.000000</td>\n",
        "      <td>   1.000000</td>\n",
        "      <td>   3.3899</td>\n",
        "    </tr>\n",
        "    <tr>\n",
        "      <th>25%</th>\n",
        "      <td> 350.000000</td>\n",
        "      <td>   1.750000</td>\n",
        "      <td>   3.3899</td>\n",
        "    </tr>\n",
        "    <tr>\n",
        "      <th>50%</th>\n",
        "      <td> 500.000000</td>\n",
        "      <td>   2.500000</td>\n",
        "      <td>   3.3899</td>\n",
        "    </tr>\n",
        "    <tr>\n",
        "      <th>75%</th>\n",
        "      <td> 650.000000</td>\n",
        "      <td>   3.250000</td>\n",
        "      <td>   3.3899</td>\n",
        "    </tr>\n",
        "    <tr>\n",
        "      <th>max</th>\n",
        "      <td> 800.000000</td>\n",
        "      <td>   4.000000</td>\n",
        "      <td>   3.3899</td>\n",
        "    </tr>\n",
        "  </tbody>\n",
        "</table>\n",
        "</div>"
       ],
       "metadata": {},
       "output_type": "pyout",
       "prompt_number": 18,
       "text": [
        "              gre  rank_factor       gpa\n",
        "count  400.000000   400.000000  400.0000\n",
        "mean   500.000000     2.500000    3.3899\n",
        "std    175.164972     1.119434    0.0000\n",
        "min    200.000000     1.000000    3.3899\n",
        "25%    350.000000     1.750000    3.3899\n",
        "50%    500.000000     2.500000    3.3899\n",
        "75%    650.000000     3.250000    3.3899\n",
        "max    800.000000     4.000000    3.3899"
       ]
      }
     ],
     "prompt_number": 18
    },
    {
     "cell_type": "code",
     "collapsed": false,
     "input": [
      "new_data2['pred'] = logit_fit.predict(new_data2)\n",
      "\n",
      "new_data2.pivot(index='gre', columns='rank_factor', values='pred').plot()"
     ],
     "language": "python",
     "metadata": {},
     "outputs": [
      {
       "metadata": {},
       "output_type": "pyout",
       "prompt_number": 20,
       "text": [
        "<matplotlib.axes._subplots.AxesSubplot at 0x10a16cd90>"
       ]
      },
      {
       "metadata": {},
       "output_type": "display_data",
       "png": "[encoded data removed]",
       "text": [
        "<matplotlib.figure.Figure at 0x10a18b3d0>"
       ]
      }
     ],
     "prompt_number": 20
    },
    {
     "cell_type": "markdown",
     "metadata": {},
     "source": [
      "#### predict probs for new data (varying gpa):"
     ]
    },
    {
     "cell_type": "code",
     "collapsed": false,
     "input": [
      "new_data3 = pd.DataFrame(list(product(np.linspace(0, 4, 100), \n",
      "                                      np.array(range(1,5), dtype=object))),\n",
      "                         columns = ['gpa', 'rank_factor'])\n",
      "new_data3['gre'] = x.gre.mean()\n",
      "new_data3.describe()"
     ],
     "language": "python",
     "metadata": {},
     "outputs": [
      {
       "html": [
        "<div style=\"max-height:1000px;max-width:1500px;overflow:auto;\">\n",
        "<table border=\"1\" class=\"dataframe\">\n",
        "  <thead>\n",
        "    <tr style=\"text-align: right;\">\n",
        "      <th></th>\n",
        "      <th>gpa</th>\n",
        "      <th>rank_factor</th>\n",
        "      <th>gre</th>\n",
        "    </tr>\n",
        "  </thead>\n",
        "  <tbody>\n",
        "    <tr>\n",
        "      <th>count</th>\n",
        "      <td> 400.000000</td>\n",
        "      <td> 400.000000</td>\n",
        "      <td> 400.000000</td>\n",
        "    </tr>\n",
        "    <tr>\n",
        "      <th>mean</th>\n",
        "      <td>   2.000000</td>\n",
        "      <td>   2.500000</td>\n",
        "      <td> 587.700000</td>\n",
        "    </tr>\n",
        "    <tr>\n",
        "      <th>std</th>\n",
        "      <td>   1.167766</td>\n",
        "      <td>   1.119434</td>\n",
        "      <td>   0.000015</td>\n",
        "    </tr>\n",
        "    <tr>\n",
        "      <th>min</th>\n",
        "      <td>   0.000000</td>\n",
        "      <td>   1.000000</td>\n",
        "      <td> 587.700000</td>\n",
        "    </tr>\n",
        "    <tr>\n",
        "      <th>25%</th>\n",
        "      <td>   1.000000</td>\n",
        "      <td>   1.750000</td>\n",
        "      <td> 587.700000</td>\n",
        "    </tr>\n",
        "    <tr>\n",
        "      <th>50%</th>\n",
        "      <td>   2.000000</td>\n",
        "      <td>   2.500000</td>\n",
        "      <td> 587.700000</td>\n",
        "    </tr>\n",
        "    <tr>\n",
        "      <th>75%</th>\n",
        "      <td>   3.000000</td>\n",
        "      <td>   3.250000</td>\n",
        "      <td> 587.700000</td>\n",
        "    </tr>\n",
        "    <tr>\n",
        "      <th>max</th>\n",
        "      <td>   4.000000</td>\n",
        "      <td>   4.000000</td>\n",
        "      <td> 587.700000</td>\n",
        "    </tr>\n",
        "  </tbody>\n",
        "</table>\n",
        "</div>"
       ],
       "metadata": {},
       "output_type": "pyout",
       "prompt_number": 21,
       "text": [
        "              gpa  rank_factor         gre\n",
        "count  400.000000   400.000000  400.000000\n",
        "mean     2.000000     2.500000  587.700000\n",
        "std      1.167766     1.119434    0.000015\n",
        "min      0.000000     1.000000  587.700000\n",
        "25%      1.000000     1.750000  587.700000\n",
        "50%      2.000000     2.500000  587.700000\n",
        "75%      3.000000     3.250000  587.700000\n",
        "max      4.000000     4.000000  587.700000"
       ]
      }
     ],
     "prompt_number": 21
    },
    {
     "cell_type": "code",
     "collapsed": false,
     "input": [
      "new_data3['pred'] = logit_fit.predict(new_data3)\n",
      "\n",
      "new_data3.pivot(index='gpa', columns='rank_factor', values='pred').plot()"
     ],
     "language": "python",
     "metadata": {},
     "outputs": [
      {
       "metadata": {},
       "output_type": "pyout",
       "prompt_number": 22,
       "text": [
        "<matplotlib.axes._subplots.AxesSubplot at 0x10a193bd0>"
       ]
      },
      {
       "metadata": {},
       "output_type": "display_data",
       "png": "[encoded data removed]",
       "text": [
        "<matplotlib.figure.Figure at 0x10a239ad0>"
       ]
      }
     ],
     "prompt_number": 22
    },
    {
     "cell_type": "heading",
     "level": 1,
     "metadata": {},
     "source": [
      "Example 2:"
     ]
    },
    {
     "cell_type": "markdown",
     "metadata": {},
     "source": [
      "*Courtesy of Nir Kaldero*"
     ]
    },
    {
     "cell_type": "heading",
     "level": 5,
     "metadata": {},
     "source": [
      "Data - Grocery type of data about Milk Consumption "
     ]
    },
    {
     "cell_type": "heading",
     "level": 6,
     "metadata": {},
     "source": [
      "Variables:"
     ]
    },
    {
     "cell_type": "heading",
     "level": 6,
     "metadata": {},
     "source": [
      "id - unique number for each consumer, 500 observations "
     ]
    },
    {
     "cell_type": "heading",
     "level": 6,
     "metadata": {},
     "source": [
      "product - binary variable (1,0); if product ==1 : consumer bought 2% milk, otherwise : fat-milk"
     ]
    },
    {
     "cell_type": "heading",
     "level": 6,
     "metadata": {},
     "source": [
      "full_price - full price before promotion (if any)"
     ]
    },
    {
     "cell_type": "heading",
     "level": 6,
     "metadata": {},
     "source": [
      "full_pri - the price after the discount/promotion "
     ]
    },
    {
     "cell_type": "heading",
     "level": 6,
     "metadata": {},
     "source": [
      "disc_price - totall amount of discount"
     ]
    },
    {
     "cell_type": "heading",
     "level": 6,
     "metadata": {},
     "source": [
      "bundel - if consumers buy the products as a bundel (2 per 6, 1 per 3)"
     ]
    },
    {
     "cell_type": "heading",
     "level": 6,
     "metadata": {},
     "source": [
      "time_day : 1== morning (until noon), otherwise: after noon-close"
     ]
    },
    {
     "cell_type": "heading",
     "level": 6,
     "metadata": {},
     "source": [
      "repeated? - if consumer i is a repated buyer in the store"
     ]
    },
    {
     "cell_type": "heading",
     "level": 6,
     "metadata": {},
     "source": [
      "repeated_bundel? - if consumer already buy the product as a bundel before"
     ]
    },
    {
     "cell_type": "heading",
     "level": 2,
     "metadata": {},
     "source": [
      "Pull the data"
     ]
    },
    {
     "cell_type": "code",
     "collapsed": false,
     "input": [
      "mdata = pd.read_csv('data/milkdata.csv')\n",
      "mdata.head(3)"
     ],
     "language": "python",
     "metadata": {},
     "outputs": [
      {
       "html": [
        "<div style=\"max-height:1000px;max-width:1500px;overflow:auto;\">\n",
        "<table border=\"1\" class=\"dataframe\">\n",
        "  <thead>\n",
        "    <tr style=\"text-align: right;\">\n",
        "      <th></th>\n",
        "      <th>id</th>\n",
        "      <th>product</th>\n",
        "      <th>full_price</th>\n",
        "      <th>full_pri</th>\n",
        "      <th>promo</th>\n",
        "      <th>disc_price</th>\n",
        "      <th>bundle</th>\n",
        "      <th>time_day</th>\n",
        "      <th>repeated?</th>\n",
        "      <th>repeated_bundle?</th>\n",
        "    </tr>\n",
        "  </thead>\n",
        "  <tbody>\n",
        "    <tr>\n",
        "      <th>0</th>\n",
        "      <td> 1</td>\n",
        "      <td> 1</td>\n",
        "      <td> 2</td>\n",
        "      <td> 1.58</td>\n",
        "      <td> 1</td>\n",
        "      <td> 0.42</td>\n",
        "      <td> 1</td>\n",
        "      <td> 1</td>\n",
        "      <td> 1</td>\n",
        "      <td> 1</td>\n",
        "    </tr>\n",
        "    <tr>\n",
        "      <th>1</th>\n",
        "      <td> 2</td>\n",
        "      <td> 1</td>\n",
        "      <td> 2</td>\n",
        "      <td> 1.15</td>\n",
        "      <td> 1</td>\n",
        "      <td> 0.85</td>\n",
        "      <td> 1</td>\n",
        "      <td> 1</td>\n",
        "      <td> 0</td>\n",
        "      <td> 1</td>\n",
        "    </tr>\n",
        "    <tr>\n",
        "      <th>2</th>\n",
        "      <td> 3</td>\n",
        "      <td> 1</td>\n",
        "      <td> 3</td>\n",
        "      <td> 2.25</td>\n",
        "      <td> 1</td>\n",
        "      <td> 0.75</td>\n",
        "      <td> 0</td>\n",
        "      <td> 1</td>\n",
        "      <td> 1</td>\n",
        "      <td> 1</td>\n",
        "    </tr>\n",
        "  </tbody>\n",
        "</table>\n",
        "</div>"
       ],
       "metadata": {},
       "output_type": "pyout",
       "prompt_number": 68,
       "text": [
        "   id  product  full_price  full_pri  promo  disc_price  bundle  time_day  \\\n",
        "0   1        1           2      1.58      1        0.42       1         1   \n",
        "1   2        1           2      1.15      1        0.85       1         1   \n",
        "2   3        1           3      2.25      1        0.75       0         1   \n",
        "\n",
        "   repeated?  repeated_bundle?  \n",
        "0          1                 1  \n",
        "1          0                 1  \n",
        "2          1                 1  "
       ]
      }
     ],
     "prompt_number": 68
    },
    {
     "cell_type": "heading",
     "level": 2,
     "metadata": {},
     "source": [
      "summary statistics (all variables)"
     ]
    },
    {
     "cell_type": "code",
     "collapsed": false,
     "input": [
      "mdata.describe().T['mean']"
     ],
     "language": "python",
     "metadata": {},
     "outputs": [
      {
       "metadata": {},
       "output_type": "pyout",
       "prompt_number": 75,
       "text": [
        "id                  250.50000\n",
        "product               0.65600\n",
        "full_price            2.49000\n",
        "full_pri              2.02276\n",
        "promo                 0.58200\n",
        "disc_price            0.55436\n",
        "bundle                0.62200\n",
        "time_day              0.70400\n",
        "repeated?             0.77600\n",
        "repeated_bundle?      0.74800\n",
        "Name: mean, dtype: float64"
       ]
      }
     ],
     "prompt_number": 75
    },
    {
     "cell_type": "heading",
     "level": 2,
     "metadata": {},
     "source": [
      "plot the distribution (or  density) of full_pri (price after promotion)"
     ]
    },
    {
     "cell_type": "code",
     "collapsed": false,
     "input": [
      "mdata.full_pri.hist()"
     ],
     "language": "python",
     "metadata": {},
     "outputs": [
      {
       "metadata": {},
       "output_type": "pyout",
       "prompt_number": 70,
       "text": [
        "<matplotlib.axes._subplots.AxesSubplot at 0x10d4d67d0>"
       ]
      },
      {
       "metadata": {},
       "output_type": "display_data",
       "png": "[encoded data removed]",
       "text": [
        "<matplotlib.figure.Figure at 0x10d4043d0>"
       ]
      }
     ],
     "prompt_number": 70
    },
    {
     "cell_type": "heading",
     "level": 2,
     "metadata": {},
     "source": [
      "plot the distribution of promo (total promotion)\n"
     ]
    },
    {
     "cell_type": "code",
     "collapsed": false,
     "input": [
      "mdata.disc_price.hist()"
     ],
     "language": "python",
     "metadata": {},
     "outputs": [
      {
       "metadata": {},
       "output_type": "pyout",
       "prompt_number": 71,
       "text": [
        "<matplotlib.axes._subplots.AxesSubplot at 0x10d50ee90>"
       ]
      },
      {
       "metadata": {},
       "output_type": "display_data",
       "png": "[encoded data removed]",
       "text": [
        "<matplotlib.figure.Figure at 0x10d5702d0>"
       ]
      }
     ],
     "prompt_number": 71
    },
    {
     "cell_type": "heading",
     "level": 2,
     "metadata": {},
     "source": [
      "Run a simple logit model where yi = Prob(product i = 1) on all other variables in the data"
     ]
    },
    {
     "cell_type": "code",
     "collapsed": false,
     "input": [
      "mdata.columns[2:]"
     ],
     "language": "python",
     "metadata": {},
     "outputs": [
      {
       "metadata": {},
       "output_type": "pyout",
       "prompt_number": 28,
       "text": [
        "Index([u'full_price', u'full_pri', u'promo', u'disc_price', u'bundle', u'time_day', u'repeated?', u'repeated_bundle?'], dtype='object')"
       ]
      }
     ],
     "prompt_number": 28
    },
    {
     "cell_type": "code",
     "collapsed": false,
     "input": [
      "train_cols = mdata.columns[2:]"
     ],
     "language": "python",
     "metadata": {},
     "outputs": [],
     "prompt_number": 29
    },
    {
     "cell_type": "code",
     "collapsed": false,
     "input": [
      "logit = smf.Logit(mdata[\"product\"], mdata[train_cols])"
     ],
     "language": "python",
     "metadata": {},
     "outputs": [],
     "prompt_number": 30
    },
    {
     "cell_type": "code",
     "collapsed": false,
     "input": [
      "results=logit.fit()\n",
      "results.summary()\n",
      "results.params # calls coefficients w/o the inefficency "
     ],
     "language": "python",
     "metadata": {},
     "outputs": [
      {
       "output_type": "stream",
       "stream": "stdout",
       "text": [
        "Optimization terminated successfully.\n",
        "         Current function value: 0.583270\n",
        "         Iterations 5\n"
       ]
      },
      {
       "metadata": {},
       "output_type": "pyout",
       "prompt_number": 123,
       "text": [
        "full_price         -0.883728\n",
        "full_pri            0.327918\n",
        "promo              -0.135096\n",
        "disc_price          0.444466\n",
        "bundle              0.689668\n",
        "time_day            1.352415\n",
        "repeated?           0.646359\n",
        "repeated_bundle?    0.295230\n",
        "dtype: float64"
       ]
      }
     ],
     "prompt_number": 123
    },
    {
     "cell_type": "code",
     "collapsed": false,
     "input": [
      "r = results.summary2()\n",
      "coef_milk = r.tables[1]['Coef.']\n",
      "coef_milk"
     ],
     "language": "python",
     "metadata": {},
     "outputs": [
      {
       "metadata": {},
       "output_type": "pyout",
       "prompt_number": 91,
       "text": [
        "full_price         -0.883728\n",
        "full_pri            0.327918\n",
        "promo              -0.135096\n",
        "disc_price          0.444466\n",
        "bundle              0.689668\n",
        "time_day            1.352415\n",
        "repeated?           0.646359\n",
        "repeated_bundle?    0.295230\n",
        "Name: Coef., dtype: float64"
       ]
      }
     ],
     "prompt_number": 91
    },
    {
     "cell_type": "heading",
     "level": 3,
     "metadata": {},
     "source": [
      "Questions:"
     ]
    },
    {
     "cell_type": "heading",
     "level": 2,
     "metadata": {},
     "source": [
      "What we are trying to find?"
     ]
    },
    {
     "cell_type": "heading",
     "level": 3,
     "metadata": {},
     "source": [
      "1. What is the expected probability that a consumer will buy 2% milk if all other variables are equal to the average (mean) number in the whole sample?"
     ]
    },
    {
     "cell_type": "code",
     "collapsed": false,
     "input": [
      "mean_milk = mdata.describe().T['mean']\n",
      "mean_milk"
     ],
     "language": "python",
     "metadata": {},
     "outputs": [
      {
       "metadata": {},
       "output_type": "pyout",
       "prompt_number": 93,
       "text": [
        "id                  250.50000\n",
        "product               0.65600\n",
        "full_price            2.49000\n",
        "full_pri              2.02276\n",
        "promo                 0.58200\n",
        "disc_price            0.55436\n",
        "bundle                0.62200\n",
        "time_day              0.70400\n",
        "repeated?             0.77600\n",
        "repeated_bundle?      0.74800\n",
        "Name: mean, dtype: float64"
       ]
      }
     ],
     "prompt_number": 93
    },
    {
     "cell_type": "code",
     "collapsed": false,
     "input": [
      "r = results.summary2()\n",
      "coef_milk = r.tables[1]['Coef.']\n",
      "coef_milk\n"
     ],
     "language": "python",
     "metadata": {},
     "outputs": [
      {
       "metadata": {},
       "output_type": "pyout",
       "prompt_number": 94,
       "text": [
        "full_price         -0.883728\n",
        "full_pri            0.327918\n",
        "promo              -0.135096\n",
        "disc_price          0.444466\n",
        "bundle              0.689668\n",
        "time_day            1.352415\n",
        "repeated?           0.646359\n",
        "repeated_bundle?    0.295230\n",
        "Name: Coef., dtype: float64"
       ]
      }
     ],
     "prompt_number": 94
    },
    {
     "cell_type": "code",
     "collapsed": false,
     "input": [
      "# removing first two rows from mean df\n",
      "mean_milk2 = mean_milk[2:]\n",
      "mean_milk2"
     ],
     "language": "python",
     "metadata": {},
     "outputs": [
      {
       "metadata": {},
       "output_type": "pyout",
       "prompt_number": 97,
       "text": [
        "full_price          2.49000\n",
        "full_pri            2.02276\n",
        "promo               0.58200\n",
        "disc_price          0.55436\n",
        "bundle              0.62200\n",
        "time_day            0.70400\n",
        "repeated?           0.77600\n",
        "repeated_bundle?    0.74800\n",
        "Name: mean, dtype: float64"
       ]
      }
     ],
     "prompt_number": 97
    },
    {
     "cell_type": "code",
     "collapsed": false,
     "input": [
      "sum_milk = sum(mean_milk2 * coef_milk)\n",
      "sum_milk"
     ],
     "language": "python",
     "metadata": {},
     "outputs": [
      {
       "metadata": {},
       "output_type": "pyout",
       "prompt_number": 111,
       "text": [
        "0.73406498372240359"
       ]
      }
     ],
     "prompt_number": 111
    },
    {
     "cell_type": "code",
     "collapsed": false,
     "input": [
      "mdata.describe().T"
     ],
     "language": "python",
     "metadata": {},
     "outputs": [
      {
       "html": [
        "<div style=\"max-height:1000px;max-width:1500px;overflow:auto;\">\n",
        "<table border=\"1\" class=\"dataframe\">\n",
        "  <thead>\n",
        "    <tr style=\"text-align: right;\">\n",
        "      <th></th>\n",
        "      <th>count</th>\n",
        "      <th>mean</th>\n",
        "      <th>std</th>\n",
        "      <th>min</th>\n",
        "      <th>25%</th>\n",
        "      <th>50%</th>\n",
        "      <th>75%</th>\n",
        "      <th>max</th>\n",
        "    </tr>\n",
        "  </thead>\n",
        "  <tbody>\n",
        "    <tr>\n",
        "      <th>id</th>\n",
        "      <td> 500</td>\n",
        "      <td> 250.50000</td>\n",
        "      <td> 144.481833</td>\n",
        "      <td> 1</td>\n",
        "      <td> 125.75</td>\n",
        "      <td> 250.50</td>\n",
        "      <td> 375.25</td>\n",
        "      <td> 500</td>\n",
        "    </tr>\n",
        "    <tr>\n",
        "      <th>product</th>\n",
        "      <td> 500</td>\n",
        "      <td>   0.65600</td>\n",
        "      <td>   0.475517</td>\n",
        "      <td> 0</td>\n",
        "      <td>   0.00</td>\n",
        "      <td>   1.00</td>\n",
        "      <td>   1.00</td>\n",
        "      <td>   1</td>\n",
        "    </tr>\n",
        "    <tr>\n",
        "      <th>full_price</th>\n",
        "      <td> 500</td>\n",
        "      <td>   2.49000</td>\n",
        "      <td>   0.500401</td>\n",
        "      <td> 2</td>\n",
        "      <td>   2.00</td>\n",
        "      <td>   2.00</td>\n",
        "      <td>   3.00</td>\n",
        "      <td>   3</td>\n",
        "    </tr>\n",
        "    <tr>\n",
        "      <th>full_pri</th>\n",
        "      <td> 500</td>\n",
        "      <td>   2.02276</td>\n",
        "      <td>   0.513379</td>\n",
        "      <td> 1</td>\n",
        "      <td>   1.63</td>\n",
        "      <td>   2.00</td>\n",
        "      <td>   2.40</td>\n",
        "      <td>   3</td>\n",
        "    </tr>\n",
        "    <tr>\n",
        "      <th>promo</th>\n",
        "      <td> 500</td>\n",
        "      <td>   0.58200</td>\n",
        "      <td>   0.493724</td>\n",
        "      <td> 0</td>\n",
        "      <td>   0.00</td>\n",
        "      <td>   1.00</td>\n",
        "      <td>   1.00</td>\n",
        "      <td>   1</td>\n",
        "    </tr>\n",
        "    <tr>\n",
        "      <th>disc_price</th>\n",
        "      <td> 500</td>\n",
        "      <td>   0.55436</td>\n",
        "      <td>   0.562047</td>\n",
        "      <td>-1</td>\n",
        "      <td>   0.00</td>\n",
        "      <td>   0.48</td>\n",
        "      <td>   1.00</td>\n",
        "      <td>   2</td>\n",
        "    </tr>\n",
        "    <tr>\n",
        "      <th>bundle</th>\n",
        "      <td> 500</td>\n",
        "      <td>   0.62200</td>\n",
        "      <td>   0.485373</td>\n",
        "      <td> 0</td>\n",
        "      <td>   0.00</td>\n",
        "      <td>   1.00</td>\n",
        "      <td>   1.00</td>\n",
        "      <td>   1</td>\n",
        "    </tr>\n",
        "    <tr>\n",
        "      <th>time_day</th>\n",
        "      <td> 500</td>\n",
        "      <td>   0.70400</td>\n",
        "      <td>   0.456948</td>\n",
        "      <td> 0</td>\n",
        "      <td>   0.00</td>\n",
        "      <td>   1.00</td>\n",
        "      <td>   1.00</td>\n",
        "      <td>   1</td>\n",
        "    </tr>\n",
        "    <tr>\n",
        "      <th>repeated?</th>\n",
        "      <td> 500</td>\n",
        "      <td>   0.77600</td>\n",
        "      <td>   0.417340</td>\n",
        "      <td> 0</td>\n",
        "      <td>   1.00</td>\n",
        "      <td>   1.00</td>\n",
        "      <td>   1.00</td>\n",
        "      <td>   1</td>\n",
        "    </tr>\n",
        "    <tr>\n",
        "      <th>repeated_bundle?</th>\n",
        "      <td> 500</td>\n",
        "      <td>   0.74800</td>\n",
        "      <td>   0.434596</td>\n",
        "      <td> 0</td>\n",
        "      <td>   0.00</td>\n",
        "      <td>   1.00</td>\n",
        "      <td>   1.00</td>\n",
        "      <td>   1</td>\n",
        "    </tr>\n",
        "  </tbody>\n",
        "</table>\n",
        "</div>"
       ],
       "metadata": {},
       "output_type": "pyout",
       "prompt_number": 109,
       "text": [
        "                  count       mean         std  min     25%     50%     75%  \\\n",
        "id                  500  250.50000  144.481833    1  125.75  250.50  375.25   \n",
        "product             500    0.65600    0.475517    0    0.00    1.00    1.00   \n",
        "full_price          500    2.49000    0.500401    2    2.00    2.00    3.00   \n",
        "full_pri            500    2.02276    0.513379    1    1.63    2.00    2.40   \n",
        "promo               500    0.58200    0.493724    0    0.00    1.00    1.00   \n",
        "disc_price          500    0.55436    0.562047   -1    0.00    0.48    1.00   \n",
        "bundle              500    0.62200    0.485373    0    0.00    1.00    1.00   \n",
        "time_day            500    0.70400    0.456948    0    0.00    1.00    1.00   \n",
        "repeated?           500    0.77600    0.417340    0    1.00    1.00    1.00   \n",
        "repeated_bundle?    500    0.74800    0.434596    0    0.00    1.00    1.00   \n",
        "\n",
        "                  max  \n",
        "id                500  \n",
        "product             1  \n",
        "full_price          3  \n",
        "full_pri            3  \n",
        "promo               1  \n",
        "disc_price          2  \n",
        "bundle              1  \n",
        "time_day            1  \n",
        "repeated?           1  \n",
        "repeated_bundle?    1  "
       ]
      }
     ],
     "prompt_number": 109
    },
    {
     "cell_type": "code",
     "collapsed": false,
     "input": [
      "y = np.exp( sum_milk ) / (1+np.exp(sum_milk))\n",
      "y"
     ],
     "language": "python",
     "metadata": {},
     "outputs": [
      {
       "metadata": {},
       "output_type": "pyout",
       "prompt_number": 114,
       "text": [
        "0.67569667064198202"
       ]
      }
     ],
     "prompt_number": 114
    },
    {
     "cell_type": "code",
     "collapsed": false,
     "input": [
      "results.predict(mdata[train_cols].mean())"
     ],
     "language": "python",
     "metadata": {},
     "outputs": [
      {
       "metadata": {},
       "output_type": "pyout",
       "prompt_number": 116,
       "text": [
        "0.67569667064198191"
       ]
      }
     ],
     "prompt_number": 116
    },
    {
     "cell_type": "heading",
     "level": 3,
     "metadata": {},
     "source": [
      "2. Which variables are signficant and which are not? (95 percent confident)"
     ]
    },
    {
     "cell_type": "code",
     "collapsed": false,
     "input": [],
     "language": "python",
     "metadata": {},
     "outputs": []
    },
    {
     "cell_type": "heading",
     "level": 3,
     "metadata": {},
     "source": [
      "3. Which variables are consistent with your prior intuition and which are not?"
     ]
    },
    {
     "cell_type": "heading",
     "level": 3,
     "metadata": {},
     "source": [
      "4. By reading the output from this regression - would you recommend for the Marketing Team to sell milk in bundle? yes? no? explain?"
     ]
    },
    {
     "cell_type": "heading",
     "level": 2,
     "metadata": {},
     "source": [
      "Interpret the estimated (betas):"
     ]
    },
    {
     "cell_type": "heading",
     "level": 2,
     "metadata": {},
     "source": [
      "Pair Excercise:"
     ]
    },
    {
     "cell_type": "heading",
     "level": 3,
     "metadata": {},
     "source": [
      "1. Run the same model with LPM ( linear probibility model, or OLS)"
     ]
    },
    {
     "cell_type": "code",
     "collapsed": false,
     "input": [
      "ols."
     ],
     "language": "python",
     "metadata": {},
     "outputs": []
    },
    {
     "cell_type": "heading",
     "level": 3,
     "metadata": {},
     "source": [
      "2. Predict y_hat"
     ]
    },
    {
     "cell_type": "code",
     "collapsed": false,
     "input": [],
     "language": "python",
     "metadata": {},
     "outputs": []
    },
    {
     "cell_type": "heading",
     "level": 3,
     "metadata": {},
     "source": [
      "3. Plot the distribution of y_hat, is there a problem?"
     ]
    },
    {
     "cell_type": "code",
     "collapsed": false,
     "input": [],
     "language": "python",
     "metadata": {},
     "outputs": []
    },
    {
     "cell_type": "heading",
     "level": 3,
     "metadata": {},
     "source": [
      "4. Plot the distribution of y_hat from the logit model, is there a problem?"
     ]
    },
    {
     "cell_type": "code",
     "collapsed": false,
     "input": [],
     "language": "python",
     "metadata": {},
     "outputs": []
    },
    {
     "cell_type": "heading",
     "level": 2,
     "metadata": {},
     "source": [
      "On your own:"
     ]
    },
    {
     "cell_type": "heading",
     "level": 3,
     "metadata": {},
     "source": [
      "1. Run the next logit model:"
     ]
    },
    {
     "cell_type": "heading",
     "level": 4,
     "metadata": {},
     "source": [
      "y = bundel (if buyera are buying milk in bundels)\n"
     ]
    },
    {
     "cell_type": "heading",
     "level": 4,
     "metadata": {},
     "source": [
      "x = product, full_price, full_pri, promo, disc_pricem, time_day, repeated"
     ]
    },
    {
     "cell_type": "code",
     "collapsed": false,
     "input": [],
     "language": "python",
     "metadata": {},
     "outputs": []
    },
    {
     "cell_type": "heading",
     "level": 3,
     "metadata": {},
     "source": [
      "2. Are consumer more likley to buy 2% milk vs. fat-milk? yes or no? explain"
     ]
    },
    {
     "cell_type": "code",
     "collapsed": false,
     "input": [],
     "language": "python",
     "metadata": {},
     "outputs": []
    },
    {
     "cell_type": "heading",
     "level": 3,
     "metadata": {},
     "source": [
      "3. Is the effect of promotion negative or positive on the outcome (Ignore significance)? Can promotions drive consumer to buy in boundle?"
     ]
    },
    {
     "cell_type": "code",
     "collapsed": false,
     "input": [],
     "language": "python",
     "metadata": {},
     "outputs": []
    },
    {
     "cell_type": "heading",
     "level": 3,
     "metadata": {},
     "source": [
      "4. Calculate the odds ratio for this regression"
     ]
    },
    {
     "cell_type": "code",
     "collapsed": false,
     "input": [],
     "language": "python",
     "metadata": {},
     "outputs": []
    },
    {
     "cell_type": "heading",
     "level": 3,
     "metadata": {},
     "source": [
      "5. Can you think, with the results we got from this regression, about a strategy to convert consumers to buy halthier milk (2%) rather than fat-milk? "
     ]
    },
    {
     "cell_type": "code",
     "collapsed": false,
     "input": [],
     "language": "python",
     "metadata": {},
     "outputs": []
    },
    {
     "cell_type": "markdown",
     "metadata": {},
     "source": [
      "---"
     ]
    },
    {
     "cell_type": "heading",
     "level": 1,
     "metadata": {},
     "source": [
      "Don't forget to fill out: http://tinyurl.com/dat-exit-ticket !"
     ]
    }
   ],
   "metadata": {}
  }
 ]
}