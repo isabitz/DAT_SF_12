{
 "metadata": {
  "name": "",
<<<<<<< HEAD
  "signature": "sha256:3a9d1050e7d6c461bfc7ae2902f5604f9344e51f4824e2856c720b20baec0168"
=======
  "signature": "sha256:ea44b366ac3da46b592950eac76c3c7d6a27fe56e61ca7614aecfd21488c5a25"
>>>>>>> e3eeb03753e881efbf16ce00ee16a8d06531bcaf
 },
 "nbformat": 3,
 "nbformat_minor": 0,
 "worksheets": [
  {
   "cells": [
    {
     "cell_type": "markdown",
     "metadata": {
      "slideshow": {
       "slide_type": "slide"
      }
     },
     "source": [
      "Lab\n",
      "===================\n",
      "Probability and Statistics\n",
      "-------------------\n",
      "Alessandro D. Gagliardi"
     ]
    },
    {
     "cell_type": "markdown",
     "metadata": {
      "slideshow": {
       "slide_type": "slide"
      }
     },
     "source": [
      "On Groundhog Day, February 2, a famous groundhog in Punxsutawney, PA is used to predict whether a winter will be long or not based on whether or not he sees his shadow. [Jonathan Taylor](http://statweb.stanford.edu/~jtaylo/) collected data on whether he saw his shadow or not from [here](http://www.stormfax.com/ghogday.htm). He stored some of this data in this [table](http://stats191.stanford.edu/data/groundhog.table).\n",
      "\n",
      "Although Phil is on the East Coast,\n",
      "Taylor wondered if the information says anything about whether or not we will experience\n",
      "a rainy winter out here in California. For this, he found rainfall data, and saved it in a \n",
      "[table](http://stats191.stanford.edu/data/rainfall.csv). To see how this was extracted\n",
      "see this [notebook](http://nbviewer.ipython.org/url/www.stanford.edu/class/stats191/notebooks/Rainfall%20data.ipynb).\n",
      "\n",
      "1. Make a boxplot of the average rainfall in Northen California comparing the years Phil sees his shadow versus the years he does not.\n",
      "\n",
      "2. Construct a 90% confidence interval for the difference between the mean rainfall in years Phil sees his shadow and years he does not.\n",
      "\n",
      "3. Interpret the interval in part 2.\n",
      "\n",
      "4. At level, $\\alpha = 0.05$ would you reject the null hypothesis that the average rainfall in Northern California during the month of February was the same in years Phil sees his shadow versus years he does not?\n",
      "\n",
      "5. What assumptions are you making in forming your confidence interval and in your hypothesis test?"
     ]
    },
    {
     "cell_type": "code",
     "collapsed": false,
     "input": [
      "%matplotlib inline\n",
      "import os\n",
      "import matplotlib.pyplot as plt\n",
      "import numpy as np\n",
      "import pandas as pd\n",
      "import statsmodels.api as sm\n",
      "import twitter\n",
      "import yaml\n",
      "from pymongo import MongoClient"
     ],
     "language": "python",
     "metadata": {
      "slideshow": {
       "slide_type": "subslide"
      }
     },
     "outputs": [],
     "prompt_number": 1
    },
    {
     "cell_type": "markdown",
     "metadata": {
      "slideshow": {
       "slide_type": "slide"
      }
     },
     "source": [
      "Part 1\n",
      "------"
     ]
    },
    {
     "cell_type": "code",
     "collapsed": false,
     "input": [
      "rainfall = pd.read_csv('http://stats191.stanford.edu/data/rainfall.csv')\n",
      "groundhog = pd.read_csv('http://stats191.stanford.edu/data/groundhog.table')"
     ],
     "language": "python",
     "metadata": {
      "slideshow": {
       "slide_type": "fragment"
      }
     },
     "outputs": [],
     "prompt_number": 2
<<<<<<< HEAD
=======
    },
    {
     "cell_type": "code",
     "collapsed": false,
     "input": [
      "rainfall.head()"
     ],
     "language": "python",
     "metadata": {},
     "outputs": [
      {
       "html": [
        "<div style=\"max-height:1000px;max-width:1500px;overflow:auto;\">\n",
        "<table border=\"1\" class=\"dataframe\">\n",
        "  <thead>\n",
        "    <tr style=\"text-align: right;\">\n",
        "      <th></th>\n",
        "      <th>WY</th>\n",
        "      <th>Oct</th>\n",
        "      <th>Nov</th>\n",
        "      <th>Dec</th>\n",
        "      <th>Jan</th>\n",
        "      <th>Feb</th>\n",
        "      <th>Mar</th>\n",
        "      <th>Apr</th>\n",
        "      <th>May</th>\n",
        "      <th>Jun</th>\n",
        "      <th>Jul</th>\n",
        "      <th>Aug</th>\n",
        "      <th>Sep</th>\n",
        "      <th>Total</th>\n",
        "    </tr>\n",
        "  </thead>\n",
        "  <tbody>\n",
        "    <tr>\n",
        "      <th>0</th>\n",
        "      <td> 1921</td>\n",
        "      <td> 5.25</td>\n",
        "      <td> 12.38</td>\n",
        "      <td> 11.52</td>\n",
        "      <td> 13.12</td>\n",
        "      <td>  3.76</td>\n",
        "      <td> 5.30</td>\n",
        "      <td> 0.94</td>\n",
        "      <td> 3.05</td>\n",
        "      <td> 0.65</td>\n",
        "      <td> 0.00</td>\n",
        "      <td> 0.00</td>\n",
        "      <td> 0.02</td>\n",
        "      <td> 55.99</td>\n",
        "    </tr>\n",
        "    <tr>\n",
        "      <th>1</th>\n",
        "      <td> 1922</td>\n",
        "      <td> 1.39</td>\n",
        "      <td>  3.16</td>\n",
        "      <td> 11.22</td>\n",
        "      <td>  3.21</td>\n",
        "      <td> 14.42</td>\n",
        "      <td> 8.37</td>\n",
        "      <td> 1.58</td>\n",
        "      <td> 2.22</td>\n",
        "      <td> 0.98</td>\n",
        "      <td> 0.14</td>\n",
        "      <td> 0.08</td>\n",
        "      <td> 0.01</td>\n",
        "      <td> 46.78</td>\n",
        "    </tr>\n",
        "    <tr>\n",
        "      <th>2</th>\n",
        "      <td> 1923</td>\n",
        "      <td> 3.59</td>\n",
        "      <td>  6.01</td>\n",
        "      <td> 11.79</td>\n",
        "      <td>  5.95</td>\n",
        "      <td>  1.93</td>\n",
        "      <td> 0.49</td>\n",
        "      <td> 6.86</td>\n",
        "      <td> 0.93</td>\n",
        "      <td> 2.09</td>\n",
        "      <td> 0.20</td>\n",
        "      <td> 0.40</td>\n",
        "      <td> 2.75</td>\n",
        "      <td> 42.99</td>\n",
        "    </tr>\n",
        "    <tr>\n",
        "      <th>3</th>\n",
        "      <td> 1924</td>\n",
        "      <td> 2.15</td>\n",
        "      <td>  0.46</td>\n",
        "      <td>  2.77</td>\n",
        "      <td>  3.55</td>\n",
        "      <td>  3.94</td>\n",
        "      <td> 2.67</td>\n",
        "      <td> 0.89</td>\n",
        "      <td> 0.05</td>\n",
        "      <td> 0.08</td>\n",
        "      <td> 0.00</td>\n",
        "      <td> 0.14</td>\n",
        "      <td> 0.40</td>\n",
        "      <td> 17.10</td>\n",
        "    </tr>\n",
        "    <tr>\n",
        "      <th>4</th>\n",
        "      <td> 1925</td>\n",
        "      <td> 6.63</td>\n",
        "      <td>  4.71</td>\n",
        "      <td>  6.01</td>\n",
        "      <td>  3.47</td>\n",
        "      <td> 15.21</td>\n",
        "      <td> 4.51</td>\n",
        "      <td> 5.46</td>\n",
        "      <td> 2.14</td>\n",
        "      <td> 1.52</td>\n",
        "      <td> 0.11</td>\n",
        "      <td> 0.83</td>\n",
        "      <td> 2.45</td>\n",
        "      <td> 53.05</td>\n",
        "    </tr>\n",
        "  </tbody>\n",
        "</table>\n",
        "</div>"
       ],
       "metadata": {},
       "output_type": "pyout",
       "prompt_number": 14,
       "text": [
        "     WY   Oct    Nov    Dec    Jan    Feb   Mar   Apr   May   Jun   Jul   Aug  \\\n",
        "0  1921  5.25  12.38  11.52  13.12   3.76  5.30  0.94  3.05  0.65  0.00  0.00   \n",
        "1  1922  1.39   3.16  11.22   3.21  14.42  8.37  1.58  2.22  0.98  0.14  0.08   \n",
        "2  1923  3.59   6.01  11.79   5.95   1.93  0.49  6.86  0.93  2.09  0.20  0.40   \n",
        "3  1924  2.15   0.46   2.77   3.55   3.94  2.67  0.89  0.05  0.08  0.00  0.14   \n",
        "4  1925  6.63   4.71   6.01   3.47  15.21  4.51  5.46  2.14  1.52  0.11  0.83   \n",
        "\n",
        "    Sep  Total  \n",
        "0  0.02  55.99  \n",
        "1  0.01  46.78  \n",
        "2  2.75  42.99  \n",
        "3  0.40  17.10  \n",
        "4  2.45  53.05  "
       ]
      }
     ],
     "prompt_number": 14
    },
    {
     "cell_type": "code",
     "collapsed": false,
     "input": [
      "groundhog.head()"
     ],
     "language": "python",
     "metadata": {},
     "outputs": [
      {
       "html": [
        "<div style=\"max-height:1000px;max-width:1500px;overflow:auto;\">\n",
        "<table border=\"1\" class=\"dataframe\">\n",
        "  <thead>\n",
        "    <tr style=\"text-align: right;\">\n",
        "      <th></th>\n",
        "      <th>year</th>\n",
        "      <th>mintemp</th>\n",
        "      <th>shadow</th>\n",
        "    </tr>\n",
        "  </thead>\n",
        "  <tbody>\n",
        "    <tr>\n",
        "      <th>0</th>\n",
        "      <td> 1990</td>\n",
        "      <td> 24</td>\n",
        "      <td> N</td>\n",
        "    </tr>\n",
        "    <tr>\n",
        "      <th>1</th>\n",
        "      <td> 1991</td>\n",
        "      <td> 23</td>\n",
        "      <td> Y</td>\n",
        "    </tr>\n",
        "    <tr>\n",
        "      <th>2</th>\n",
        "      <td> 1992</td>\n",
        "      <td> 22</td>\n",
        "      <td> Y</td>\n",
        "    </tr>\n",
        "    <tr>\n",
        "      <th>3</th>\n",
        "      <td> 1993</td>\n",
        "      <td> 16</td>\n",
        "      <td> Y</td>\n",
        "    </tr>\n",
        "    <tr>\n",
        "      <th>4</th>\n",
        "      <td> 1994</td>\n",
        "      <td> 12</td>\n",
        "      <td> Y</td>\n",
        "    </tr>\n",
        "  </tbody>\n",
        "</table>\n",
        "</div>"
       ],
       "metadata": {},
       "output_type": "pyout",
       "prompt_number": 11,
       "text": [
        "   year  mintemp shadow\n",
        "0  1990       24      N\n",
        "1  1991       23      Y\n",
        "2  1992       22      Y\n",
        "3  1993       16      Y\n",
        "4  1994       12      Y"
       ]
      }
     ],
     "prompt_number": 11
    },
    {
     "cell_type": "code",
     "collapsed": false,
     "input": [
      "rainfall.merge(groundhog, left_on='WY', right_on='year').head()"
     ],
     "language": "python",
     "metadata": {},
     "outputs": [
      {
       "html": [
        "<div style=\"max-height:1000px;max-width:1500px;overflow:auto;\">\n",
        "<table border=\"1\" class=\"dataframe\">\n",
        "  <thead>\n",
        "    <tr style=\"text-align: right;\">\n",
        "      <th></th>\n",
        "      <th>WY</th>\n",
        "      <th>Oct</th>\n",
        "      <th>Nov</th>\n",
        "      <th>Dec</th>\n",
        "      <th>Jan</th>\n",
        "      <th>Feb</th>\n",
        "      <th>Mar</th>\n",
        "      <th>Apr</th>\n",
        "      <th>May</th>\n",
        "      <th>Jun</th>\n",
        "      <th>Jul</th>\n",
        "      <th>Aug</th>\n",
        "      <th>Sep</th>\n",
        "      <th>Total</th>\n",
        "      <th>year</th>\n",
        "      <th>mintemp</th>\n",
        "      <th>shadow</th>\n",
        "    </tr>\n",
        "  </thead>\n",
        "  <tbody>\n",
        "    <tr>\n",
        "      <th>0</th>\n",
        "      <td> 1990</td>\n",
        "      <td> 6.29</td>\n",
        "      <td> 3.08</td>\n",
        "      <td>  0.07</td>\n",
        "      <td>  7.88</td>\n",
        "      <td>  4.60</td>\n",
        "      <td>  3.19</td>\n",
        "      <td> 1.83</td>\n",
        "      <td> 7.55</td>\n",
        "      <td> 0.29</td>\n",
        "      <td> 0.12</td>\n",
        "      <td> 0.54</td>\n",
        "      <td> 0.53</td>\n",
        "      <td> 35.97</td>\n",
        "      <td> 1990</td>\n",
        "      <td> 24</td>\n",
        "      <td> N</td>\n",
        "    </tr>\n",
        "    <tr>\n",
        "      <th>1</th>\n",
        "      <td> 1991</td>\n",
        "      <td> 1.10</td>\n",
        "      <td> 1.56</td>\n",
        "      <td>  1.39</td>\n",
        "      <td>  0.88</td>\n",
        "      <td>  3.11</td>\n",
        "      <td> 17.94</td>\n",
        "      <td> 1.81</td>\n",
        "      <td> 2.51</td>\n",
        "      <td> 1.20</td>\n",
        "      <td> 0.40</td>\n",
        "      <td> 0.22</td>\n",
        "      <td> 0.05</td>\n",
        "      <td> 32.17</td>\n",
        "      <td> 1991</td>\n",
        "      <td> 23</td>\n",
        "      <td> Y</td>\n",
        "    </tr>\n",
        "    <tr>\n",
        "      <th>2</th>\n",
        "      <td> 1992</td>\n",
        "      <td> 3.44</td>\n",
        "      <td> 2.64</td>\n",
        "      <td>  3.97</td>\n",
        "      <td>  2.81</td>\n",
        "      <td> 11.84</td>\n",
        "      <td>  5.35</td>\n",
        "      <td> 2.67</td>\n",
        "      <td> 0.12</td>\n",
        "      <td> 2.73</td>\n",
        "      <td> 0.20</td>\n",
        "      <td> 0.16</td>\n",
        "      <td> 0.08</td>\n",
        "      <td> 36.01</td>\n",
        "      <td> 1992</td>\n",
        "      <td> 22</td>\n",
        "      <td> Y</td>\n",
        "    </tr>\n",
        "    <tr>\n",
        "      <th>3</th>\n",
        "      <td> 1993</td>\n",
        "      <td> 4.77</td>\n",
        "      <td> 1.15</td>\n",
        "      <td> 14.41</td>\n",
        "      <td> 16.53</td>\n",
        "      <td> 10.26</td>\n",
        "      <td>  7.57</td>\n",
        "      <td> 3.66</td>\n",
        "      <td> 4.27</td>\n",
        "      <td> 2.31</td>\n",
        "      <td> 0.00</td>\n",
        "      <td> 0.38</td>\n",
        "      <td> 0.01</td>\n",
        "      <td> 65.32</td>\n",
        "      <td> 1993</td>\n",
        "      <td> 16</td>\n",
        "      <td> Y</td>\n",
        "    </tr>\n",
        "    <tr>\n",
        "      <th>4</th>\n",
        "      <td> 1994</td>\n",
        "      <td> 2.65</td>\n",
        "      <td> 2.81</td>\n",
        "      <td>  7.34</td>\n",
        "      <td>  4.10</td>\n",
        "      <td>  7.62</td>\n",
        "      <td>  1.53</td>\n",
        "      <td> 2.87</td>\n",
        "      <td> 1.96</td>\n",
        "      <td> 0.32</td>\n",
        "      <td> 0.01</td>\n",
        "      <td> 0.00</td>\n",
        "      <td> 0.62</td>\n",
        "      <td> 31.83</td>\n",
        "      <td> 1994</td>\n",
        "      <td> 12</td>\n",
        "      <td> Y</td>\n",
        "    </tr>\n",
        "  </tbody>\n",
        "</table>\n",
        "</div>"
       ],
       "metadata": {},
       "output_type": "pyout",
       "prompt_number": 12,
       "text": [
        "     WY   Oct   Nov    Dec    Jan    Feb    Mar   Apr   May   Jun   Jul   Aug  \\\n",
        "0  1990  6.29  3.08   0.07   7.88   4.60   3.19  1.83  7.55  0.29  0.12  0.54   \n",
        "1  1991  1.10  1.56   1.39   0.88   3.11  17.94  1.81  2.51  1.20  0.40  0.22   \n",
        "2  1992  3.44  2.64   3.97   2.81  11.84   5.35  2.67  0.12  2.73  0.20  0.16   \n",
        "3  1993  4.77  1.15  14.41  16.53  10.26   7.57  3.66  4.27  2.31  0.00  0.38   \n",
        "4  1994  2.65  2.81   7.34   4.10   7.62   1.53  2.87  1.96  0.32  0.01  0.00   \n",
        "\n",
        "    Sep  Total  year  mintemp shadow  \n",
        "0  0.53  35.97  1990       24      N  \n",
        "1  0.05  32.17  1991       23      Y  \n",
        "2  0.08  36.01  1992       22      Y  \n",
        "3  0.01  65.32  1993       16      Y  \n",
        "4  0.62  31.83  1994       12      Y  "
       ]
      }
     ],
     "prompt_number": 12
>>>>>>> e3eeb03753e881efbf16ce00ee16a8d06531bcaf
    },
    {
     "cell_type": "code",
     "collapsed": false,
     "input": [
      "df = rainfall.merge(groundhog, left_on='WY', right_on='year')[['Total', 'shadow']]"
     ],
     "language": "python",
     "metadata": {},
     "outputs": [],
<<<<<<< HEAD
     "prompt_number": 31
=======
     "prompt_number": 3
>>>>>>> e3eeb03753e881efbf16ce00ee16a8d06531bcaf
    },
    {
     "cell_type": "code",
     "collapsed": false,
     "input": [
<<<<<<< HEAD
      "df"
=======
      "df.tail()"
>>>>>>> e3eeb03753e881efbf16ce00ee16a8d06531bcaf
     ],
     "language": "python",
     "metadata": {},
     "outputs": [
      {
       "html": [
        "<div style=\"max-height:1000px;max-width:1500px;overflow:auto;\">\n",
        "<table border=\"1\" class=\"dataframe\">\n",
        "  <thead>\n",
        "    <tr style=\"text-align: right;\">\n",
        "      <th></th>\n",
        "      <th>Total</th>\n",
        "      <th>shadow</th>\n",
        "    </tr>\n",
        "  </thead>\n",
        "  <tbody>\n",
        "    <tr>\n",
<<<<<<< HEAD
        "      <th>0 </th>\n",
        "      <td> 35.97</td>\n",
        "      <td> N</td>\n",
        "    </tr>\n",
        "    <tr>\n",
        "      <th>1 </th>\n",
        "      <td> 32.17</td>\n",
        "      <td> Y</td>\n",
        "    </tr>\n",
        "    <tr>\n",
        "      <th>2 </th>\n",
        "      <td> 36.01</td>\n",
        "      <td> Y</td>\n",
        "    </tr>\n",
        "    <tr>\n",
        "      <th>3 </th>\n",
        "      <td> 65.32</td>\n",
        "      <td> Y</td>\n",
        "    </tr>\n",
        "    <tr>\n",
        "      <th>4 </th>\n",
        "      <td> 31.83</td>\n",
        "      <td> Y</td>\n",
        "    </tr>\n",
        "    <tr>\n",
        "      <th>5 </th>\n",
        "      <td> 85.39</td>\n",
        "      <td> N</td>\n",
        "    </tr>\n",
        "    <tr>\n",
        "      <th>6 </th>\n",
        "      <td> 61.31</td>\n",
        "      <td> Y</td>\n",
        "    </tr>\n",
        "    <tr>\n",
        "      <th>7 </th>\n",
        "      <td> 68.76</td>\n",
        "      <td> N</td>\n",
        "    </tr>\n",
        "    <tr>\n",
        "      <th>8 </th>\n",
        "      <td> 82.40</td>\n",
        "      <td> Y</td>\n",
        "    </tr>\n",
        "    <tr>\n",
        "      <th>9 </th>\n",
        "      <td> 54.75</td>\n",
        "      <td> N</td>\n",
        "    </tr>\n",
        "    <tr>\n",
        "      <th>10</th>\n",
        "      <td> 56.70</td>\n",
        "      <td> Y</td>\n",
        "    </tr>\n",
        "    <tr>\n",
        "      <th>11</th>\n",
        "      <td> 32.97</td>\n",
        "      <td> Y</td>\n",
        "    </tr>\n",
        "    <tr>\n",
        "      <th>12</th>\n",
        "      <td> 46.34</td>\n",
        "      <td> Y</td>\n",
        "    </tr>\n",
        "    <tr>\n",
        "      <th>13</th>\n",
        "      <td> 59.77</td>\n",
        "      <td> Y</td>\n",
        "    </tr>\n",
        "    <tr>\n",
        "      <th>14</th>\n",
        "      <td> 47.29</td>\n",
        "      <td> Y</td>\n",
        "    </tr>\n",
        "    <tr>\n",
        "      <th>15</th>\n",
        "      <td> 57.51</td>\n",
        "      <td> Y</td>\n",
        "    </tr>\n",
        "    <tr>\n",
=======
>>>>>>> e3eeb03753e881efbf16ce00ee16a8d06531bcaf
        "      <th>16</th>\n",
        "      <td> 80.15</td>\n",
        "      <td> Y</td>\n",
        "    </tr>\n",
        "    <tr>\n",
        "      <th>17</th>\n",
        "      <td> 37.21</td>\n",
        "      <td> N</td>\n",
        "    </tr>\n",
        "    <tr>\n",
        "      <th>18</th>\n",
        "      <td> 34.99</td>\n",
        "      <td> Y</td>\n",
        "    </tr>\n",
        "    <tr>\n",
        "      <th>19</th>\n",
        "      <td> 46.85</td>\n",
        "      <td> Y</td>\n",
        "    </tr>\n",
        "    <tr>\n",
        "      <th>20</th>\n",
        "      <td> 53.59</td>\n",
        "      <td> Y</td>\n",
        "    </tr>\n",
        "  </tbody>\n",
        "</table>\n",
        "</div>"
       ],
       "metadata": {},
       "output_type": "pyout",
<<<<<<< HEAD
       "prompt_number": 32,
       "text": [
        "    Total shadow\n",
        "0   35.97      N\n",
        "1   32.17      Y\n",
        "2   36.01      Y\n",
        "3   65.32      Y\n",
        "4   31.83      Y\n",
        "5   85.39      N\n",
        "6   61.31      Y\n",
        "7   68.76      N\n",
        "8   82.40      Y\n",
        "9   54.75      N\n",
        "10  56.70      Y\n",
        "11  32.97      Y\n",
        "12  46.34      Y\n",
        "13  59.77      Y\n",
        "14  47.29      Y\n",
        "15  57.51      Y\n",
=======
       "prompt_number": 5,
       "text": [
        "    Total shadow\n",
>>>>>>> e3eeb03753e881efbf16ce00ee16a8d06531bcaf
        "16  80.15      Y\n",
        "17  37.21      N\n",
        "18  34.99      Y\n",
        "19  46.85      Y\n",
        "20  53.59      Y"
       ]
      }
     ],
<<<<<<< HEAD
     "prompt_number": 32
=======
     "prompt_number": 5
>>>>>>> e3eeb03753e881efbf16ce00ee16a8d06531bcaf
    },
    {
     "cell_type": "code",
     "collapsed": false,
     "input": [
      "df.boxplot(column='Total', by='shadow')"
     ],
     "language": "python",
     "metadata": {},
     "outputs": [
      {
       "metadata": {},
       "output_type": "pyout",
<<<<<<< HEAD
       "prompt_number": 4,
       "text": [
        "<matplotlib.axes._subplots.AxesSubplot at 0x1047b1e10>"
=======
       "prompt_number": 6,
       "text": [
        "<matplotlib.axes._subplots.AxesSubplot at 0x109d9f310>"
>>>>>>> e3eeb03753e881efbf16ce00ee16a8d06531bcaf
       ]
      },
      {
       "metadata": {},
       "output_type": "display_data",
       "png": "iVBORw0KGgoAAAANSUhEUgAAAXcAAAEaCAYAAADqqhd6AAAABHNCSVQICAgIfAhkiAAAAAlwSFlz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\n",
       "text": [
<<<<<<< HEAD
        "<matplotlib.figure.Figure at 0x10a372bd0>"
       ]
      }
     ],
     "prompt_number": 4
=======
        "<matplotlib.figure.Figure at 0x109d31d90>"
       ]
      }
     ],
     "prompt_number": 6
>>>>>>> e3eeb03753e881efbf16ce00ee16a8d06531bcaf
    },
    {
     "cell_type": "markdown",
     "metadata": {
      "slideshow": {
       "slide_type": "slide"
      }
     },
     "source": [
      "Part 2\n",
      "------"
     ]
    },
    {
     "cell_type": "code",
     "collapsed": false,
     "input": [
      "mod = sm.OLS.from_formula(\"Total ~ shadow =='Y'\", df)\n",
      "res = mod.fit()\n",
      "print res.summary(alpha = .1)"
     ],
     "language": "python",
     "metadata": {
      "slideshow": {
       "slide_type": "fragment"
      }
     },
     "outputs": [
      {
       "output_type": "stream",
       "stream": "stdout",
       "text": [
        "                            OLS Regression Results                            \n",
        "==============================================================================\n",
        "Dep. Variable:                  Total   R-squared:                       0.016\n",
        "Model:                            OLS   Adj. R-squared:                 -0.036\n",
        "Method:                 Least Squares   F-statistic:                    0.2996\n",
        "Date:                Tue, 10 Feb 2015   Prob (F-statistic):              0.591\n",
<<<<<<< HEAD
        "Time:                        21:12:10   Log-Likelihood:                -88.568\n",
        "No. Observations:                  21   AIC:                             181.1\n",
        "Df Residuals:                      19   BIC:                             183.2\n",
        "Df Model:                           1                                         \n",
=======
        "Time:                        20:14:19   Log-Likelihood:                -88.568\n",
        "No. Observations:                  21   AIC:                             181.1\n",
        "Df Residuals:                      19   BIC:                             183.2\n",
        "Df Model:                           1                                         \n",
        "Covariance Type:            nonrobust                                         \n",
>>>>>>> e3eeb03753e881efbf16ce00ee16a8d06531bcaf
        "=========================================================================================\n",
        "                            coef    std err          t      P>|t|      [90.0% Conf. Int.]\n",
        "-----------------------------------------------------------------------------------------\n",
        "Intercept                56.4160      7.721      7.307      0.000        43.066    69.766\n",
        "shadow == 'Y'[T.True]    -4.8410      8.845     -0.547      0.591       -20.135    10.453\n",
        "==============================================================================\n",
        "Omnibus:                        1.662   Durbin-Watson:                   1.830\n",
        "Prob(Omnibus):                  0.436   Jarque-Bera (JB):                1.276\n",
        "Skew:                           0.403   Prob(JB):                        0.528\n",
        "Kurtosis:                       2.102   Cond. No.                         3.88\n",
<<<<<<< HEAD
        "==============================================================================\n"
       ]
      }
     ],
     "prompt_number": 53
=======
        "==============================================================================\n",
        "\n",
        "Warnings:\n",
        "[1] Standard Errors assume that the covariance matrix of the errors is correctly specified.\n"
       ]
      }
     ],
     "prompt_number": 9
>>>>>>> e3eeb03753e881efbf16ce00ee16a8d06531bcaf
    },
    {
     "cell_type": "markdown",
     "metadata": {
      "slideshow": {
       "slide_type": "fragment"
      }
     },
     "source": [
      "I report the confidence interval [-20.135, 10.453] for the difference between the `shadow == 'Y'` and the `shadow == 'N'` means."
     ]
    },
    {
     "cell_type": "markdown",
     "metadata": {
      "slideshow": {
       "slide_type": "slide"
      }
     },
     "source": [
      "Part 3\n",
      "------\n",
      "If I repeated this sample of `shadow` and `rainfall` in Northern California (assuming they are IID each year) and I form this confidence interval as `t.test` does. Then, 90% of the intervals will cover the true underlying difference in the rainfall between years the groundhog sees his shadow or not."
     ]
    },
    {
     "cell_type": "markdown",
     "metadata": {
      "slideshow": {
       "slide_type": "slide"
      }
     },
     "source": [
      "Part 4\n",
      "------\n",
      "As the reported $p$-value is 0.591, I fail to reject the null hypothesis at the 5% level."
     ]
    },
    {
     "cell_type": "markdown",
     "metadata": {
      "slideshow": {
       "slide_type": "slide"
      }
     },
     "source": [
      "Part 5\n",
      "------\n",
      "I am assuming that the `rainfall` measurements are independent $N(\\mu_i,\\sigma^2)$ where $\\mu_i=\\mu_N$ in the `shadow == 'N'` years and $\\mu_i=\\mu_Y$ in the `shadow == 'Y'` years."
     ]
    },
    {
     "cell_type": "markdown",
     "metadata": {},
     "source": [
      "---"
     ]
    },
    {
     "cell_type": "markdown",
     "metadata": {
      "slideshow": {
       "slide_type": "slide"
      }
     },
     "source": [
      "1-2 Pairs\n",
      "========\n",
      "\n",
      "Use `enron.db` from Lab 2. It can be found in the data folder.\n",
      "\n",
      "1. Create a boxplot of the message recipient count (`MAX(rno)`), splitting the data based on the `seniority` of the sender.\n",
      "\n",
      "2. Compute the sample mean and standard deviation in the two groups.\n",
      "\n",
      "3. Create a histogram of the recipient count within each group.\n",
      "\n",
      "4. Compute a 90% confidence interval for the difference in recipient count between the two groups. What is a problem with this? How might you fix it?\n",
      "\n",
      "5. At level $\\alpha=5\\%$, test the null hypothesis that the average recipient count does not differ between the two groups. What assumptions are you making? What can you conclude?"
     ]
    },
    {
     "cell_type": "markdown",
     "metadata": {
      "slideshow": {
       "slide_type": "fragment"
      }
     },
     "source": [
      "On your own\n",
      "=========\n",
      "\n"
     ]
    },
    {
     "cell_type": "markdown",
     "metadata": {},
     "source": [
      "Start with the Twitter data on US and Canada trends from Lab 3.\n",
      "\n",
      "1. Create a histogram of `text_len` within each group. (Use `alpha = 0.5` to overlay them.)\n",
      "\n",
      "2. Compute the sample mean and standard deviation in the two groups.\n",
      "\n",
      "3. Create a `DataFrame` concatenating data from each collection adding a `country` column to distinguish US from Canada.  \n",
      "    i.e. given `ca_text_len` and `us_text_len` as `Series` containing the length of each text in the Canadian and US collections respectively:\n",
      "\n",
      "    ```python\n",
      "    text_len_df = pd.concat([pd.DataFrame({'text_len': ca_text_len, 'country': 'CA'}), \n",
      "                             pd.DataFrame({'text_len': us_text_len, 'country': 'US'})])\n",
      "    ```\n",
      "\n",
      "4. Use this `DataFrame` to create a `boxplot` of the `text_len` by `country`.\n",
      "\n",
      "5. Use `OLS` to compute a 90% confidence interval for the difference in `text_len` between the two groups. Name a problem with describing the confidence interval of tweet length in this way.\n",
      "\n",
      "5. At level $\\alpha=5\\%$, test the null hypothesis that the average text length does not differ between the two groups. What can you conclude?\n",
      "\n",
      "6. Repeat the above steps but pick your own tags and try to find a pair with a more significant difference."
     ]
    },
    {
     "cell_type": "markdown",
     "metadata": {},
     "source": [
      "---"
     ]
    },
    {
     "cell_type": "markdown",
     "metadata": {},
     "source": [
      "### Don't forget to submit exit tickets: [http://tinyurl.com/dat-exit-ticket](http://tinyurl.com/dat-exit-ticket)"
     ]
    },
    {
     "cell_type": "code",
     "collapsed": false,
     "input": [
      "import sqlite3\n",
      "import pandas as pd\n",
      "conn = sqlite3.connect('enron.db')"
     ],
     "language": "python",
     "metadata": {},
     "outputs": [],
     "prompt_number": 12
    },
    {
     "cell_type": "code",
     "collapsed": false,
     "input": [
      "ig = pd.read_sql(\"\"\"SELECT from_eid, seniority, max(rno) \n",
      "            FROM recipient \n",
      "            LEFT OUTER JOIN message \n",
      "            on message.mid = recipient.mid \n",
      "            LEFT OUTER JOIN employeebase \n",
      "            on employeebase.eid = message.from_eid\n",
      "            GROUP BY from_eid, seniority\n",
      "            ORDER BY max(rno) DESC \n",
      "            \"\"\", conn)"
     ],
     "language": "python",
     "metadata": {},
     "outputs": [],
     "prompt_number": 43
    },
    {
     "cell_type": "code",
     "collapsed": false,
     "input": [
      "# Create a boxplot of the message recipient count (MAX(rno)), splitting the data based on the seniority of the sender.\n",
      "\n",
      "ig.boxplot(column='max(rno)', by='seniority')"
     ],
     "language": "python",
     "metadata": {},
     "outputs": [
      {
       "metadata": {},
       "output_type": "pyout",
       "prompt_number": 63,
       "text": [
        "<matplotlib.axes._subplots.AxesSubplot at 0x10d04e550>"
       ]
      },
      {
       "metadata": {},
       "output_type": "display_data",
       "png": "iVBORw0KGgoAAAANSUhEUgAAAXcAAAEaCAYAAADqqhd6AAAABHNCSVQICAgIfAhkiAAAAAlwSFlz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\nzBm4c4MAAAAASUVORK5CYII=\n",
       "text": [
        "<matplotlib.figure.Figure at 0x10d128dd0>"
       ]
      }
     ],
     "prompt_number": 63
    },
    {
     "cell_type": "code",
     "collapsed": false,
     "input": [
      "# Compute the sample mean and standard deviation in the three groups.\n",
      "ig.describe()"
     ],
     "language": "python",
     "metadata": {},
     "outputs": [
      {
       "html": [
        "<div style=\"max-height:1000px;max-width:1500px;overflow:auto;\">\n",
        "<table border=\"1\" class=\"dataframe\">\n",
        "  <thead>\n",
        "    <tr style=\"text-align: right;\">\n",
        "      <th></th>\n",
        "      <th>from_eid</th>\n",
        "      <th>max(rno)</th>\n",
        "    </tr>\n",
        "  </thead>\n",
        "  <tbody>\n",
        "    <tr>\n",
        "      <th>count</th>\n",
        "      <td> 152.000000</td>\n",
        "      <td> 152.000000</td>\n",
        "    </tr>\n",
        "    <tr>\n",
        "      <th>mean</th>\n",
        "      <td>  78.855263</td>\n",
        "      <td>   7.118421</td>\n",
        "    </tr>\n",
        "    <tr>\n",
        "      <th>std</th>\n",
        "      <td>  45.169938</td>\n",
        "      <td>   7.970919</td>\n",
        "    </tr>\n",
        "    <tr>\n",
        "      <th>min</th>\n",
        "      <td>   1.000000</td>\n",
        "      <td>   1.000000</td>\n",
        "    </tr>\n",
        "    <tr>\n",
        "      <th>25%</th>\n",
        "      <td>  40.750000</td>\n",
        "      <td>   3.000000</td>\n",
        "    </tr>\n",
        "    <tr>\n",
        "      <th>50%</th>\n",
        "      <td>  79.500000</td>\n",
        "      <td>   5.000000</td>\n",
        "    </tr>\n",
        "    <tr>\n",
        "      <th>75%</th>\n",
        "      <td> 117.250000</td>\n",
        "      <td>   8.000000</td>\n",
        "    </tr>\n",
        "    <tr>\n",
        "      <th>max</th>\n",
        "      <td> 156.000000</td>\n",
        "      <td>  57.000000</td>\n",
        "    </tr>\n",
        "  </tbody>\n",
        "</table>\n",
        "</div>"
       ],
       "metadata": {},
       "output_type": "pyout",
       "prompt_number": 62,
       "text": [
        "         from_eid    max(rno)\n",
        "count  152.000000  152.000000\n",
        "mean    78.855263    7.118421\n",
        "std     45.169938    7.970919\n",
        "min      1.000000    1.000000\n",
        "25%     40.750000    3.000000\n",
        "50%     79.500000    5.000000\n",
        "75%    117.250000    8.000000\n",
        "max    156.000000   57.000000"
       ]
      }
     ],
     "prompt_number": 62
    },
    {
     "cell_type": "code",
     "collapsed": false,
     "input": [
      "# Create a histogram of the recipient count within each group.\n",
      "ig.hist('max(rno)')"
     ],
     "language": "python",
     "metadata": {},
     "outputs": [
      {
       "metadata": {},
       "output_type": "pyout",
       "prompt_number": 64,
       "text": [
        "array([[<matplotlib.axes._subplots.AxesSubplot object at 0x10d1b0250>]], dtype=object)"
       ]
      },
      {
       "metadata": {},
       "output_type": "display_data",
       "png": "iVBORw0KGgoAAAANSUhEUgAAAXgAAAEKCAYAAAAYd05sAAAABHNCSVQICAgIfAhkiAAAAAlwSFlz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\nm5kl5YI3M0vKBW9mlpQL3swsqf8HLeFKipjU0QoAAAAASUVORK5CYII=\n",
       "text": [
        "<matplotlib.figure.Figure at 0x10d1bbc10>"
       ]
      }
     ],
     "prompt_number": 64
    },
    {
     "cell_type": "code",
     "collapsed": false,
     "input": [],
     "language": "python",
     "metadata": {},
     "outputs": []
    }
   ],
   "metadata": {}
  }
 ]
}